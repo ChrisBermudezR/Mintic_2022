{
  "nbformat": 4,
  "nbformat_minor": 0,
  "metadata": {
    "colab": {
      "name": "Untitled1.ipynb",
      "provenance": [],
      "authorship_tag": "ABX9TyNLMOA3CGKFbS8EjV/RHt6V",
      "include_colab_link": true
    },
    "kernelspec": {
      "name": "python3",
      "display_name": "Python 3"
    },
    "language_info": {
      "name": "python"
    }
  },
  "cells": [
    {
      "cell_type": "markdown",
      "metadata": {
        "id": "view-in-github",
        "colab_type": "text"
      },
      "source": [
        "<a href=\"https://colab.research.google.com/github/ChrisBermudezR/Mintic_2022/blob/main/Problemas_Pesos.ipynb\" target=\"_parent\"><img src=\"https://colab.research.google.com/assets/colab-badge.svg\" alt=\"Open In Colab\"/></a>"
      ]
    },
    {
      "cell_type": "code",
      "execution_count": null,
      "metadata": {
        "colab": {
          "base_uri": "https://localhost:8080/"
        },
        "id": "tcWZ8TFchVou",
        "outputId": "3d20f619-a32f-499c-bfc0-3459172bb4e6"
      },
      "outputs": [
        {
          "output_type": "stream",
          "name": "stdout",
          "text": [
            "En vereda encantada  Gi, Ale y Nico  quieren saber cuanto pesan y utilizan la bascula del abuelo. Al quitarle cuatro kilos al peso de Gi se obtiene dos veces el peso de Ale y si sumamos los pesos de Gi y Ale se obtiene cinco veces el peso de Nico (todos los pesos son enteros).\n",
            "Cuanto es el peso de Gio:50\n",
            "El peso de Gio es: 50\n",
            "El peso de Gio es: 23.0\n",
            "El peso de Gio es: 14.6\n"
          ]
        }
      ],
      "source": [
        "#Problema 2022-04-25\n",
        "print(\"En vereda encantada  Gi, Ale y Nico  quieren saber cuanto pesan y utilizan la bascula del abuelo. Al quitarle cuatro kilos al peso de Gi se obtiene dos veces el peso de Ale y si sumamos los pesos de Gi y Ale se obtiene cinco veces el peso de Nico (todos los pesos son enteros).\") \n",
        "Gio=int(input(\"Cuanto es el peso de Gio:\"))\n",
        "Ale=(Gio-4)/2\n",
        "Nico= (Ale+Gio)/5\n",
        "print(f\"El peso de Gio es: {Gio}\")\n",
        "print(f\"El peso de Gio es: {Ale}\")\n",
        "print(f\"El peso de Gio es: {Nico}\")\n"
      ]
    },
    {
      "cell_type": "markdown",
      "source": [
        "Funciones para cácular el área del circulo"
      ],
      "metadata": {
        "id": "DnPI5-27pXBN"
      }
    },
    {
      "cell_type": "code",
      "source": [
        "def f(x):\n",
        "  return 3.1416*x**2\n",
        "  f(23)\n",
        "print(f(23))\n"
      ],
      "metadata": {
        "colab": {
          "base_uri": "https://localhost:8080/"
        },
        "id": "Kullxn5TpVmc",
        "outputId": "a0ab4536-ee57-4eb7-caed-54e492361ec3"
      },
      "execution_count": null,
      "outputs": [
        {
          "output_type": "stream",
          "name": "stdout",
          "text": [
            "1661.9064\n"
          ]
        }
      ]
    },
    {
      "cell_type": "markdown",
      "source": [
        "Cálculo de valores"
      ],
      "metadata": {
        "id": "_BensHIPyKVN"
      }
    },
    {
      "cell_type": "code",
      "source": [
        "def f(x):\n",
        "  a = x**2\n",
        "  b= x**3\n",
        "  c = x*x\n",
        "  d = x*x*x\n",
        "  return print(a,b,c,d)\n",
        "f(3)"
      ],
      "metadata": {
        "colab": {
          "base_uri": "https://localhost:8080/"
        },
        "id": "LRaRZLMHt_9G",
        "outputId": "bebc0ac2-cc22-4718-b963-07652aaba82d"
      },
      "execution_count": null,
      "outputs": [
        {
          "output_type": "stream",
          "name": "stdout",
          "text": [
            "9 27 9 27\n"
          ]
        }
      ]
    },
    {
      "cell_type": "markdown",
      "source": [
        "Interés compuesto"
      ],
      "metadata": {
        "id": "vFkXoKaayDDu"
      }
    },
    {
      "cell_type": "code",
      "source": [
        "def f(x):\n",
        "  cf = x*(1 + 0.13)**15\n",
        "  return print(cf)\n",
        "f(95000000)"
      ],
      "metadata": {
        "colab": {
          "base_uri": "https://localhost:8080/"
        },
        "id": "xLy9LhDrw3Ke",
        "outputId": "1968d61c-73a4-4c12-c4b4-4651e82385b1"
      },
      "execution_count": null,
      "outputs": [
        {
          "output_type": "stream",
          "name": "stdout",
          "text": [
            "594155685.8812412\n"
          ]
        }
      ]
    },
    {
      "cell_type": "code",
      "source": [
        "\tprint(\"Cual es el peso del padre en kg: \")\n",
        "\tpadre = int(input())\n",
        "\tmadre = int(2*padre+4)\n",
        "\thijo = int((madre+padre)/5)\n",
        "\tprint(padre, madre, hijo)\n",
        "\tif hijo>=0 and hijo<=20:\n",
        "\t\tprint(\"uno\")\n",
        "\telse:\n",
        "\t\tif hijo>=21 and hijo<=40:\n",
        "\t\t\tprint(\"dos\")\n",
        "\t\telse:\n",
        "\t\t\tif hijo>=41 and hijo<=80:\n",
        "\t\t\t\tprint(\"tres\")\n",
        "\t\t\telse:\n",
        "\t\t\t\tif hijo>80:\n",
        "\t\t\t\t\tprint(\"cuatro\")"
      ],
      "metadata": {
        "id": "MyNDgvku_K64",
        "outputId": "fcde76bf-aa9b-48be-9207-9a5eebba28a7",
        "colab": {
          "base_uri": "https://localhost:8080/"
        }
      },
      "execution_count": 20,
      "outputs": [
        {
          "output_type": "stream",
          "name": "stdout",
          "text": [
            "Cu�l es el peso del padre en kg: \n",
            "65\n",
            "65 134 39\n",
            "dos\n"
          ]
        }
      ]
    }
  ]
}