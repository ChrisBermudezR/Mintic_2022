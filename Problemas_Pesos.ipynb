{
  "nbformat": 4,
  "nbformat_minor": 0,
  "metadata": {
    "colab": {
      "name": "Untitled1.ipynb",
      "provenance": [],
      "authorship_tag": "ABX9TyNya9ZzSGD4F+pTFcwFHb4m",
      "include_colab_link": true
    },
    "kernelspec": {
      "name": "python3",
      "display_name": "Python 3"
    },
    "language_info": {
      "name": "python"
    }
  },
  "cells": [
    {
      "cell_type": "markdown",
      "metadata": {
        "id": "view-in-github",
        "colab_type": "text"
      },
      "source": [
        "<a href=\"https://colab.research.google.com/github/ChrisBermudezR/Mintic_2022/blob/main/Problemas_Pesos.ipynb\" target=\"_parent\"><img src=\"https://colab.research.google.com/assets/colab-badge.svg\" alt=\"Open In Colab\"/></a>"
      ]
    },
    {
      "cell_type": "code",
      "execution_count": null,
      "metadata": {
        "colab": {
          "base_uri": "https://localhost:8080/"
        },
        "id": "tcWZ8TFchVou",
        "outputId": "3d20f619-a32f-499c-bfc0-3459172bb4e6"
      },
      "outputs": [
        {
          "output_type": "stream",
          "name": "stdout",
          "text": [
            "En vereda encantada  Gi, Ale y Nico  quieren saber cuanto pesan y utilizan la bascula del abuelo. Al quitarle cuatro kilos al peso de Gi se obtiene dos veces el peso de Ale y si sumamos los pesos de Gi y Ale se obtiene cinco veces el peso de Nico (todos los pesos son enteros).\n",
            "Cuanto es el peso de Gio:50\n",
            "El peso de Gio es: 50\n",
            "El peso de Gio es: 23.0\n",
            "El peso de Gio es: 14.6\n"
          ]
        }
      ],
      "source": [
        "#Problema 2022-04-25\n",
        "print(\"En vereda encantada  Gi, Ale y Nico  quieren saber cuanto pesan y utilizan la bascula del abuelo. Al quitarle cuatro kilos al peso de Gi se obtiene dos veces el peso de Ale y si sumamos los pesos de Gi y Ale se obtiene cinco veces el peso de Nico (todos los pesos son enteros).\") \n",
        "Gio=int(input(\"Cuanto es el peso de Gio:\"))\n",
        "Ale=(Gio-4)/2\n",
        "Nico= (Ale+Gio)/5\n",
        "print(f\"El peso de Gio es: {Gio}\")\n",
        "print(f\"El peso de Gio es: {Ale}\")\n",
        "print(f\"El peso de Gio es: {Nico}\")\n"
      ]
    },
    {
      "cell_type": "markdown",
      "source": [
        "Funciones para cácular el área del circulo"
      ],
      "metadata": {
        "id": "DnPI5-27pXBN"
      }
    },
    {
      "cell_type": "code",
      "source": [
        "def f(x):\n",
        "  return 3.1416*x**2\n",
        "  f(23)\n",
        "print(f(23))\n"
      ],
      "metadata": {
        "id": "Kullxn5TpVmc",
        "outputId": "a0ab4536-ee57-4eb7-caed-54e492361ec3",
        "colab": {
          "base_uri": "https://localhost:8080/"
        }
      },
      "execution_count": 5,
      "outputs": [
        {
          "output_type": "stream",
          "name": "stdout",
          "text": [
            "1661.9064\n"
          ]
        }
      ]
    },
    {
      "cell_type": "code",
      "source": [
        "def f(x):\n",
        "  a = x**2\n",
        "  b= x**3\n",
        "  c = x*x\n",
        "  d = x*x*x\n",
        "  return print(a,b,c,d)\n",
        "f(3)"
      ],
      "metadata": {
        "id": "LRaRZLMHt_9G",
        "outputId": "bebc0ac2-cc22-4718-b963-07652aaba82d",
        "colab": {
          "base_uri": "https://localhost:8080/"
        }
      },
      "execution_count": 12,
      "outputs": [
        {
          "output_type": "stream",
          "name": "stdout",
          "text": [
            "9 27 9 27\n"
          ]
        }
      ]
    },
    {
      "cell_type": "markdown",
      "source": [
        "Interés compuesto"
      ],
      "metadata": {
        "id": "vFkXoKaayDDu"
      }
    },
    {
      "cell_type": "code",
      "source": [
        "def f(x):\n",
        "  cf = x*(1 + 0.03)**2\n",
        "  return print(cf)\n",
        "f(300)"
      ],
      "metadata": {
        "id": "xLy9LhDrw3Ke",
        "outputId": "4f9161a4-b0a1-46c1-92d9-07cbc4dc717d",
        "colab": {
          "base_uri": "https://localhost:8080/"
        }
      },
      "execution_count": 15,
      "outputs": [
        {
          "output_type": "stream",
          "name": "stdout",
          "text": [
            "318.27\n"
          ]
        }
      ]
    }
  ]
}