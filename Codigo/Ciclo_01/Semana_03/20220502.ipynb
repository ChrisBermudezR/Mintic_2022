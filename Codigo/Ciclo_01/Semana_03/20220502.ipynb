{
  "nbformat": 4,
  "nbformat_minor": 0,
  "metadata": {
    "colab": {
      "name": "20220502.ipynb",
      "provenance": []
    },
    "kernelspec": {
      "name": "python3",
      "display_name": "Python 3"
    },
    "language_info": {
      "name": "python"
    }
  },
  "cells": [
    {
      "cell_type": "markdown",
      "source": [
        "# Clases sobre Ciclos"
      ],
      "metadata": {
        "id": "hvvuxhp4cnGW"
      }
    },
    {
      "cell_type": "markdown",
      "source": [
        "\n",
        "\n",
        "**Contadores**: El contador de programa (en inglés Program Counter o PC), también llamado contador de eventos (Instruction Pointer), parte de la unidad central de proceso en algunas computadoras, es un registro del procesador de un computador que indica la posición donde está el procesador en su secuencia de instrucciones.\n",
        "\n",
        "**Acumuladores**: Un acumulador en programación es una versión ampliada de un contador. El acumulador  tiene las mismas características que un contador excepto el valor de incremento que es un valor variable.\n",
        "\n",
        "## Ciclo while\n",
        "\n",
        "**Palabras reservadas para \"Mientras\" es while**\n",
        "\n",
        "\n",
        "\n",
        "```\n",
        "#Ejemplo de estructura del ciclo \"while\"\n",
        "#Esta es la estructura básica del ciclo \"while\"\n",
        "\n",
        "i = 0\n",
        "\n",
        "while i < 10:\n",
        "  print(i)\n",
        "  i = i + 1\n",
        "```\n",
        "\n"
      ],
      "metadata": {
        "id": "75RyYqM6gu2O"
      }
    },
    {
      "cell_type": "code",
      "execution_count": 2,
      "metadata": {
        "colab": {
          "base_uri": "https://localhost:8080/"
        },
        "id": "PnGuzx2pcTYC",
        "outputId": "655e1b9a-2ed1-4059-eb18-3b4842b5c83b"
      },
      "outputs": [
        {
          "output_type": "stream",
          "name": "stdout",
          "text": [
            "0\n",
            "1\n",
            "2\n",
            "3\n",
            "4\n",
            "5\n",
            "6\n",
            "7\n",
            "8\n",
            "9\n"
          ]
        }
      ],
      "source": [
        "i = 0\n",
        "\n",
        "while i < 10:\n",
        "  print(i)\n",
        "  i = i + 1"
      ]
    },
    {
      "cell_type": "code",
      "source": [
        "#Imprimir números impares\n",
        "i = 1\n",
        "\n",
        "while i <= 20:\n",
        "  print(i)\n",
        "  i = i + 2\n"
      ],
      "metadata": {
        "colab": {
          "base_uri": "https://localhost:8080/"
        },
        "id": "RadYwqjFjOnO",
        "outputId": "81b37144-17b0-41aa-f95f-ed6a2413e13b"
      },
      "execution_count": 12,
      "outputs": [
        {
          "output_type": "stream",
          "name": "stdout",
          "text": [
            "1\n",
            "3\n",
            "5\n",
            "7\n",
            "9\n",
            "11\n",
            "13\n",
            "15\n",
            "17\n",
            "19\n"
          ]
        }
      ]
    }
  ]
}