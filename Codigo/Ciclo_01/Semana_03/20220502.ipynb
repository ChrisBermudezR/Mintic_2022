{
  "nbformat": 4,
  "nbformat_minor": 0,
  "metadata": {
    "colab": {
      "name": "20220502.ipynb",
      "provenance": []
    },
    "kernelspec": {
      "name": "python3",
      "display_name": "Python 3"
    },
    "language_info": {
      "name": "python"
    }
  },
  "cells": [
    {
      "cell_type": "markdown",
      "source": [
        "# Clases sobre Ciclos"
      ],
      "metadata": {
        "id": "hvvuxhp4cnGW"
      }
    },
    {
      "cell_type": "markdown",
      "source": [
        "\n",
        "\n",
        "**Contadores**: El contador de programa (en inglés Program Counter o PC), también llamado contador de eventos (Instruction Pointer), parte de la unidad central de proceso en algunas computadoras, es un registro del procesador de un computador que indica la posición donde está el procesador en su secuencia de instrucciones.\n",
        "\n",
        "**Acumuladores**: Un acumulador en programación es una versión ampliada de un contador. El acumulador  tiene las mismas características que un contador excepto el valor de incremento que es un valor variable.\n",
        "\n",
        "## Ciclo while\n",
        "\n",
        "**Palabras reservadas para \"Mientras\" es while**\n",
        "\n",
        "El ciclo while nos dá una alternativa de ejecución mientras se cumpla la condición.\n",
        "\n",
        "```\n",
        "#Ejemplo de estructura del ciclo \"while\"\n",
        "#Esta es la estructura básica del ciclo \"while\"\n",
        "\n",
        "i = 0\n",
        "\n",
        "while i < 10:\n",
        "  print(i)\n",
        "  i = i + 1\n",
        "```\n",
        "\n"
      ],
      "metadata": {
        "id": "75RyYqM6gu2O"
      }
    },
    {
      "cell_type": "code",
      "execution_count": 2,
      "metadata": {
        "colab": {
          "base_uri": "https://localhost:8080/"
        },
        "id": "PnGuzx2pcTYC",
        "outputId": "655e1b9a-2ed1-4059-eb18-3b4842b5c83b"
      },
      "outputs": [
        {
          "output_type": "stream",
          "name": "stdout",
          "text": [
            "0\n",
            "1\n",
            "2\n",
            "3\n",
            "4\n",
            "5\n",
            "6\n",
            "7\n",
            "8\n",
            "9\n"
          ]
        }
      ],
      "source": [
        "i = 0\n",
        "\n",
        "while i < 10:\n",
        "  print(i)\n",
        "  i = i + 1"
      ]
    },
    {
      "cell_type": "code",
      "source": [
        "#Imprimir números impares\n",
        "i = 1\n",
        "\n",
        "while i <= 20:\n",
        "  print(i)\n",
        "  i = i + 2\n"
      ],
      "metadata": {
        "colab": {
          "base_uri": "https://localhost:8080/"
        },
        "id": "RadYwqjFjOnO",
        "outputId": "81b37144-17b0-41aa-f95f-ed6a2413e13b"
      },
      "execution_count": 12,
      "outputs": [
        {
          "output_type": "stream",
          "name": "stdout",
          "text": [
            "1\n",
            "3\n",
            "5\n",
            "7\n",
            "9\n",
            "11\n",
            "13\n",
            "15\n",
            "17\n",
            "19\n"
          ]
        }
      ]
    },
    {
      "cell_type": "code",
      "source": [
        "#Imprimir los números del 1 al 9 y además saber la sumatoria\n",
        "i = 0\n",
        "suma = 0\n",
        "while i <=9:\n",
        "    print(i)\n",
        "    suma = suma + i\n",
        "    i = i + 1\n",
        "\n",
        "\n",
        "print(suma)\n"
      ],
      "metadata": {
        "colab": {
          "base_uri": "https://localhost:8080/"
        },
        "id": "QwFbXKl9lEgI",
        "outputId": "82616e57-4f82-40f1-a58a-e32a28b9407f"
      },
      "execution_count": 20,
      "outputs": [
        {
          "output_type": "stream",
          "name": "stdout",
          "text": [
            "0\n",
            "1\n",
            "2\n",
            "3\n",
            "4\n",
            "5\n",
            "6\n",
            "7\n",
            "8\n",
            "9\n",
            "45\n"
          ]
        }
      ]
    },
    {
      "cell_type": "markdown",
      "source": [
        "# Problemas en clase\n",
        "## Problema 1\n",
        "\n",
        "\n"
      ],
      "metadata": {
        "id": "34CDwBQGoKM_"
      }
    },
    {
      "cell_type": "code",
      "source": [
        "numero = int(input(\"Escriba un número positivo: \"))\n",
        "while numero < 0:\n",
        "    print(\"¡Ha escrito un número negativo! Inténtelo de nuevo\")\n",
        "    numero = int(input(\"Escriba un número positivo: \"))\n",
        "print(\"Gracias por su colaboración\")"
      ],
      "metadata": {
        "colab": {
          "base_uri": "https://localhost:8080/"
        },
        "id": "Lf7ahVoSoJXu",
        "outputId": "4a738f9f-6ccf-4fe0-e7ca-3bb63178db4a"
      },
      "execution_count": 25,
      "outputs": [
        {
          "output_type": "stream",
          "name": "stdout",
          "text": [
            "Escriba un número positivo: -1\n",
            "¡Ha escrito un número negativo! Inténtelo de nuevo\n",
            "Escriba un número positivo: -2\n",
            "¡Ha escrito un número negativo! Inténtelo de nuevo\n",
            "Escriba un número positivo: -3\n",
            "¡Ha escrito un número negativo! Inténtelo de nuevo\n",
            "Escriba un número positivo: -4\n",
            "¡Ha escrito un número negativo! Inténtelo de nuevo\n",
            "Escriba un número positivo: 1\n",
            "Gracias por su colaboración\n"
          ]
        }
      ]
    },
    {
      "cell_type": "markdown",
      "source": [
        "## Problema 2 \n",
        "\n",
        " Tabla de Multiplicar del 3 del 0 al 10"
      ],
      "metadata": {
        "id": "GIs_4KUYqqJ9"
      }
    },
    {
      "cell_type": "code",
      "source": [
        "i = 0\n",
        "while i <=10:\n",
        "  resultado = 3 * i\n",
        "  i = i + 1\n",
        "  print('3 x', i-1, '=', resultado)\n",
        "  "
      ],
      "metadata": {
        "colab": {
          "base_uri": "https://localhost:8080/"
        },
        "id": "kzi2ysp6rBsS",
        "outputId": "b326b35e-79a1-4d5d-c6c5-91beec4b2ba1"
      },
      "execution_count": 55,
      "outputs": [
        {
          "output_type": "stream",
          "name": "stdout",
          "text": [
            "3 x 0 = 0\n",
            "3 x 1 = 3\n",
            "3 x 2 = 6\n",
            "3 x 3 = 9\n",
            "3 x 4 = 12\n",
            "3 x 5 = 15\n",
            "3 x 6 = 18\n",
            "3 x 7 = 21\n",
            "3 x 8 = 24\n",
            "3 x 9 = 27\n",
            "3 x 10 = 30\n"
          ]
        }
      ]
    },
    {
      "cell_type": "markdown",
      "source": [
        "## Problema 3\n",
        "\n",
        "Imprimir cinco veces la palabra Python"
      ],
      "metadata": {
        "id": "IlTiLIFKv3r_"
      }
    },
    {
      "cell_type": "code",
      "source": [
        "imp = 1\n",
        "\n",
        "while imp <= 5:\n",
        "  print(\"python\")\n",
        "  imp = imp + 1\n",
        "  \n",
        "    "
      ],
      "metadata": {
        "colab": {
          "base_uri": "https://localhost:8080/"
        },
        "id": "Y6cYpQYrv9yF",
        "outputId": "19f83b6b-616a-430a-dd77-1b0ec0f7df90"
      },
      "execution_count": 61,
      "outputs": [
        {
          "output_type": "stream",
          "name": "stdout",
          "text": [
            "python\n",
            "python\n",
            "python\n",
            "python\n",
            "python\n"
          ]
        }
      ]
    },
    {
      "cell_type": "markdown",
      "source": [
        "## Imprimir los múltiplos de tres comprendidos entre tres y 15."
      ],
      "metadata": {
        "id": "TT5jJ1Q1w-Lt"
      }
    },
    {
      "cell_type": "code",
      "source": [
        "i = 1\n",
        "while i <= 15:\n",
        "  multiplos = 3 * i\n",
        "  i = i + 1\n",
        "  if multiplos >= 3 and multiplos <= 15:\n",
        "    print(multiplos)\n",
        "\n",
        "\n"
      ],
      "metadata": {
        "colab": {
          "base_uri": "https://localhost:8080/"
        },
        "id": "VU2PZgv1xGqV",
        "outputId": "c1c39d19-5fdb-426a-b15a-e9337747e2ab"
      },
      "execution_count": 80,
      "outputs": [
        {
          "output_type": "stream",
          "name": "stdout",
          "text": [
            "3\n",
            "6\n",
            "9\n",
            "12\n",
            "15\n"
          ]
        }
      ]
    },
    {
      "cell_type": "markdown",
      "source": [
        "# Tarea\n",
        "\n",
        "Imprimir la tabla de multiplicar del 3 al 7"
      ],
      "metadata": {
        "id": "rwy3vaY20nMW"
      }
    },
    {
      "cell_type": "code",
      "source": [
        ""
      ],
      "metadata": {
        "id": "4NguUJ_x0mKu"
      },
      "execution_count": null,
      "outputs": []
    }
  ]
}