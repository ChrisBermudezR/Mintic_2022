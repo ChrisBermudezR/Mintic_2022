{
  "nbformat": 4,
  "nbformat_minor": 0,
  "metadata": {
    "colab": {
      "name": "20220503.ipynb",
      "provenance": []
    },
    "kernelspec": {
      "name": "python3",
      "display_name": "Python 3"
    },
    "language_info": {
      "name": "python"
    }
  },
  "cells": [
    {
      "cell_type": "markdown",
      "source": [
        "# Listas"
      ],
      "metadata": {
        "id": "Z43P0tmvoYir"
      }
    },
    {
      "cell_type": "code",
      "execution_count": null,
      "metadata": {
        "colab": {
          "base_uri": "https://localhost:8080/"
        },
        "id": "PwCcHhWioV28",
        "outputId": "8ffec5eb-67bd-4643-fb8d-a2dcdeae4872"
      },
      "outputs": [
        {
          "output_type": "stream",
          "name": "stdout",
          "text": [
            "[1, 2, 3, 4, 5, 6, 7, 8, 9, 10]\n"
          ]
        }
      ],
      "source": [
        "list1 = [1,2,3,4,5,6,7,8,9,10]\n",
        "print(list1)"
      ]
    },
    {
      "cell_type": "code",
      "source": [
        "nombres=[\"Juan\", \"Pedro\", \"Maria\", \"Duverli\", \"Bryan\", \"Esniver\", \"Usnavy\", \"Dualinquer\"]\n",
        "print(nombres)\n",
        "print(nombres[0])"
      ],
      "metadata": {
        "colab": {
          "base_uri": "https://localhost:8080/"
        },
        "id": "lIudlKmzofHL",
        "outputId": "772485d7-b572-47b2-fb3b-be3dcde032da"
      },
      "execution_count": null,
      "outputs": [
        {
          "output_type": "stream",
          "name": "stdout",
          "text": [
            "['Juan', 'Pedro', 'Maria', 'Duverli', 'Bryan', 'Esniver', 'Usnavy', 'Dualinquer']\n",
            "Juan\n"
          ]
        }
      ]
    },
    {
      "cell_type": "code",
      "source": [
        "#CARLOS MAURICIO SUAREZ LOPEZ\n",
        "lista1 = [\"angela\", \"patricia\", \"isabella\",\"carlos\"]\n",
        "print(lista1)"
      ],
      "metadata": {
        "colab": {
          "base_uri": "https://localhost:8080/"
        },
        "id": "tthHUTHlpiFb",
        "outputId": "5042f3fa-76aa-4de7-bf80-a86cd7865cd8"
      },
      "execution_count": null,
      "outputs": [
        {
          "output_type": "stream",
          "name": "stdout",
          "text": [
            "['angela', 'patricia', 'isabella', 'carlos']\n"
          ]
        }
      ]
    },
    {
      "cell_type": "code",
      "source": [
        "# Carolina Tovar cerón\n",
        "list_nombres={\"carolina\" ,\"daniela\" ,\"claudia\" ,\"fernando\" ,\"isabel\" ,\"antonia\" ,\"fernanda\" ,\"cristobal\"}\n",
        "print(list_nombres)"
      ],
      "metadata": {
        "id": "-erj20jGpj6c"
      },
      "execution_count": null,
      "outputs": []
    },
    {
      "cell_type": "code",
      "source": [
        "#Cesar augusto Tique arbelaez\n",
        "\n",
        "list1=[\"juan\",\"pedro\",\"cesar\",\"augusto\"]\n",
        "print(list1)"
      ],
      "metadata": {
        "id": "nxyJzH_LpsRL"
      },
      "execution_count": null,
      "outputs": []
    },
    {
      "cell_type": "markdown",
      "source": [
        "## Función **len()**"
      ],
      "metadata": {
        "id": "z7iCA7oxsyQL"
      }
    },
    {
      "cell_type": "code",
      "source": [
        "list1=[\"juan\",\"pedro\",\"cesar\",\"augusto\"]\n",
        "len(list1)"
      ],
      "metadata": {
        "colab": {
          "base_uri": "https://localhost:8080/"
        },
        "id": "50YOBUqLsxkL",
        "outputId": "089080c5-b7e6-4492-d6f0-af10dde70758"
      },
      "execution_count": null,
      "outputs": [
        {
          "output_type": "execute_result",
          "data": {
            "text/plain": [
              "4"
            ]
          },
          "metadata": {},
          "execution_count": 14
        }
      ]
    },
    {
      "cell_type": "markdown",
      "source": [
        "## Concatenar listas\n",
        "\n",
        "Se concatenan las listas usando el símbolo +"
      ],
      "metadata": {
        "id": "80yjq36AtZmV"
      }
    },
    {
      "cell_type": "code",
      "source": [
        "nombres=[\"Juan\", \"Pedro\", \"Maria\", \"Duverli\", \"Bryan\", \"Esniver\", \"Usnavy\", \"Dualinquer\"]\n",
        "apellidos=[\"Birbiquí\", \"Sampues\", \"Chuchimí\", \"Caderín\", \"Pasto\", \"Pernir\", \"Adujú\", \"Bermí\"]\n",
        "concatenada_Nombres_Apellidos= nombres + apellidos\n",
        "\n",
        "print(concatenada_Nombres_Apellidos)\n"
      ],
      "metadata": {
        "colab": {
          "base_uri": "https://localhost:8080/"
        },
        "id": "iqvQLBhcthgT",
        "outputId": "17a4d397-b64e-4545-dd91-74e148a2a150"
      },
      "execution_count": null,
      "outputs": [
        {
          "output_type": "stream",
          "name": "stdout",
          "text": [
            "['Juan', 'Pedro', 'Maria', 'Duverli', 'Bryan', 'Esniver', 'Usnavy', 'Dualinquer', 'Birbiquí', 'Sampues', 'Chuchimí', 'Caderín', 'Pasto', 'Pernir', 'Adujú', 'Bermí']\n"
          ]
        }
      ]
    },
    {
      "cell_type": "markdown",
      "source": [
        "## Agregar elementos a una lista\n",
        "\n",
        "Se puede agregar un elemento nuevo a una lista con el símbolo + y agregando el nuevo elemneto en [ ]"
      ],
      "metadata": {
        "id": "4RArjoiYuSjb"
      }
    },
    {
      "cell_type": "code",
      "source": [
        "lista2=[3, 4, 5, 6, 7, 8, 9, 10 ,11, 12]\n",
        "#Agregar el número 13 sin volver a hacer la lista\n",
        "\n",
        "lista2= lista2 + [13]\n",
        "print(lista2)\n",
        "\n",
        "# otra forma que se puede agregar un elemento a la lista con .append\n",
        "\n",
        "lista2.append(13)\n",
        "print(lista2)\n",
        "\n",
        "# otra forma es con la función .insert a la cual se le puede dar la posición en la lista con .insert(posición, elemento)\n",
        "lista2.insert(3, 13)\n",
        "print(lista2)\n",
        "\n",
        "#Si se desea imprimir varios elementos de la lista se puede usar el rango con [ : ]\n",
        "lista2=[3, 4, 5, 6, 7, 8, 9, 10 ,11, 12]\n",
        "print(lista2[0:6])\n"
      ],
      "metadata": {
        "colab": {
          "base_uri": "https://localhost:8080/"
        },
        "id": "c0cFiPG-uVhz",
        "outputId": "73b031e0-ead0-4fdb-9ed7-5ceffbede205"
      },
      "execution_count": null,
      "outputs": [
        {
          "output_type": "stream",
          "name": "stdout",
          "text": [
            "[3, 4, 5, 6, 7, 8, 9, 10, 11, 12, 13]\n",
            "[3, 4, 5, 6, 7, 8, 9, 10, 11, 12, 13, 13]\n",
            "[3, 4, 5, 13, 6, 7, 8, 9, 10, 11, 12, 13, 13]\n",
            "[3, 4, 5, 6, 7, 8]\n"
          ]
        }
      ]
    },
    {
      "cell_type": "markdown",
      "source": [
        "# Ciclo *for*\n",
        "\n",
        "😞"
      ],
      "metadata": {
        "id": "ZyvbSSPp0RZL"
      }
    },
    {
      "cell_type": "code",
      "source": [
        "numbers=[1,2,3,4,5,6,7]\n",
        "\n",
        "for a in numbers:\n",
        "  print(a)"
      ],
      "metadata": {
        "colab": {
          "base_uri": "https://localhost:8080/"
        },
        "id": "XueZbkPD0VlS",
        "outputId": "b92d6d6e-dfea-4a7d-de1b-cd75e8fd9cd5"
      },
      "execution_count": null,
      "outputs": [
        {
          "output_type": "stream",
          "name": "stdout",
          "text": [
            "1\n",
            "2\n",
            "3\n",
            "4\n",
            "5\n",
            "6\n",
            "7\n"
          ]
        }
      ]
    },
    {
      "cell_type": "code",
      "source": [
        "numbers=[1,2,3,4,5,6,7]\n",
        "\n",
        "for a in numbers:\n",
        "  print(a, end =\" \")"
      ],
      "metadata": {
        "colab": {
          "base_uri": "https://localhost:8080/"
        },
        "id": "fYsbJg2V1--j",
        "outputId": "d01ce092-8072-4fba-8ac7-e0690fe06b56"
      },
      "execution_count": null,
      "outputs": [
        {
          "output_type": "stream",
          "name": "stdout",
          "text": [
            "1234567"
          ]
        }
      ]
    },
    {
      "cell_type": "code",
      "source": [
        "nombres=[\"angela\", \"patricia\", \"isabella\",\"carlos\"]\n",
        "\n",
        "for a in nombres:\n",
        "  print(a, end =\" \")\n"
      ],
      "metadata": {
        "colab": {
          "base_uri": "https://localhost:8080/"
        },
        "id": "TUNXedEf1icS",
        "outputId": "68f9b3bf-9e39-452f-ecf6-22954d542d64"
      },
      "execution_count": null,
      "outputs": [
        {
          "output_type": "stream",
          "name": "stdout",
          "text": [
            "angela patricia isabella carlos "
          ]
        }
      ]
    },
    {
      "cell_type": "code",
      "source": [
        "for a in nombres:\n",
        "  print(a)"
      ],
      "metadata": {
        "colab": {
          "base_uri": "https://localhost:8080/"
        },
        "id": "-OChSFm12lRG",
        "outputId": "31a96b2d-4434-4271-fa42-b19165a641d2"
      },
      "execution_count": null,
      "outputs": [
        {
          "output_type": "stream",
          "name": "stdout",
          "text": [
            "angela\n",
            "patricia\n",
            "isabella\n",
            "carlos\n"
          ]
        }
      ]
    },
    {
      "cell_type": "markdown",
      "source": [
        "# Problemas en clase"
      ],
      "metadata": {
        "id": "z6Ompp1GqPvj"
      }
    },
    {
      "cell_type": "code",
      "source": [
        "lista1=[\"pedro\", \"2\", \"chamorro\", \"Colombia\", \"Tranquite\" ,\"Isbell\" ,\"Antonio\" ,\"Fernanda\" ,\"Alfredito\",\"Jenny\",\"Cristina\"]\n",
        "lista2=[3, 4, 5, 6, 7, 8, 9, 10 ,11, 12]\n",
        "lista3=[\"Cartagena\", \"Barranquilla\", \"Santa Marta\", \"Malambo\" ,\"Aracataca\" ,\"Coveñas\" ,\"Sincelejo\" ,\"Ponedera\", \"Mompox\", \"Soledá\",\"Mamatoco\"]\n",
        "print(lista1[0], lista1[4], lista1[9])\n",
        "print(lista2[0], lista2[4], lista2[9])\n",
        "print(lista3[0], lista3[4], lista3[9])"
      ],
      "metadata": {
        "colab": {
          "base_uri": "https://localhost:8080/"
        },
        "id": "fTWAVSRCqTbb",
        "outputId": "503142db-a86a-4c67-805c-9da09a213c04"
      },
      "execution_count": null,
      "outputs": [
        {
          "output_type": "stream",
          "name": "stdout",
          "text": [
            "pedro fernando cristobal\n",
            "3 7 12\n",
            "Cartagena Aracataca Soledá\n"
          ]
        }
      ]
    },
    {
      "cell_type": "code",
      "source": [
        "print(\"El tamaño de la lista es:\", len(lista1))\n",
        "print(\"El tamaño de la lista es:\",len(lista2))\n",
        "print(\"El tamaño de la lista es:\",len(lista3))"
      ],
      "metadata": {
        "colab": {
          "base_uri": "https://localhost:8080/"
        },
        "id": "p1OUkmnks7qz",
        "outputId": "3c8dcf25-3a90-4483-f0d6-b17736f07278"
      },
      "execution_count": null,
      "outputs": [
        {
          "output_type": "stream",
          "name": "stdout",
          "text": [
            "El tamaño de la lista es: 11\n",
            "El tamaño de la lista es: 10\n",
            "El tamaño de la lista es: 11\n"
          ]
        }
      ]
    },
    {
      "cell_type": "markdown",
      "source": [
        "Tengo una lista y la van a llenar de números y luego imprimen los números pares de la lista. 😟"
      ],
      "metadata": {
        "id": "9hllsXuO3t1y"
      }
    },
    {
      "cell_type": "code",
      "source": [
        "numerosList=[1,2,56,78,45,34,22,44]\n",
        "\n",
        "for i in numerosList:\n",
        "  if i % 2 == 0:\n",
        "    print(i)\n",
        "  else:\n",
        "    print(\"Fin\")"
      ],
      "metadata": {
        "colab": {
          "base_uri": "https://localhost:8080/"
        },
        "id": "GdH4r2L03_ZS",
        "outputId": "93a79395-bf2c-449f-9782-0e2daec41250"
      },
      "execution_count": null,
      "outputs": [
        {
          "output_type": "stream",
          "name": "stdout",
          "text": [
            "Fin\n",
            "2\n",
            "56\n",
            "78\n",
            "Fin\n",
            "34\n",
            "22\n",
            "44\n"
          ]
        }
      ]
    }
  ]
}