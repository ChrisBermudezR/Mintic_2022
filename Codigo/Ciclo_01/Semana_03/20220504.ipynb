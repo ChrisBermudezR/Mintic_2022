{
  "nbformat": 4,
  "nbformat_minor": 0,
  "metadata": {
    "colab": {
      "name": "20220504.ipynb",
      "provenance": []
    },
    "kernelspec": {
      "name": "python3",
      "display_name": "Python 3"
    },
    "language_info": {
      "name": "python"
    }
  },
  "cells": [
    {
      "cell_type": "markdown",
      "source": [
        "# Función *range()* 🛸"
      ],
      "metadata": {
        "id": "OYhjT1Zpvq8r"
      }
    },
    {
      "cell_type": "code",
      "execution_count": 1,
      "metadata": {
        "colab": {
          "base_uri": "https://localhost:8080/"
        },
        "id": "OtirCZOgvoBN",
        "outputId": "7309c892-8dc5-4d53-9919-0953edd38e28"
      },
      "outputs": [
        {
          "output_type": "stream",
          "name": "stdout",
          "text": [
            "0, 1, 2, 3, 4, "
          ]
        }
      ],
      "source": [
        "for i in range(5):\n",
        "    print(i, end=\", \") # prints: 0, 1, 2, 3, 4, \n",
        "\n"
      ]
    },
    {
      "cell_type": "code",
      "source": [
        "for i in range(-1, 5):\n",
        " print(i, end=\", \")"
      ],
      "metadata": {
        "colab": {
          "base_uri": "https://localhost:8080/"
        },
        "id": "0VOphxCFyBx8",
        "outputId": "4ae284e5-7b2a-4bc7-f9ce-f42d61543222"
      },
      "execution_count": 3,
      "outputs": [
        {
          "output_type": "stream",
          "name": "stdout",
          "text": [
            "-1, 0, 1, 2, 3, 4, "
          ]
        }
      ]
    },
    {
      "cell_type": "code",
      "source": [
        "for i in range(-1, 5, 2): # este último elemento permite darle el tipo de incremento en impresión al ciclo\n",
        " print(i, end=\", \")"
      ],
      "metadata": {
        "colab": {
          "base_uri": "https://localhost:8080/"
        },
        "id": "Bp2iuZBzyIEU",
        "outputId": "6b87e30c-68d7-4392-f237-1f0b9ba99e4d"
      },
      "execution_count": 4,
      "outputs": [
        {
          "output_type": "stream",
          "name": "stdout",
          "text": [
            "-1, 1, 3, "
          ]
        }
      ]
    },
    {
      "cell_type": "markdown",
      "source": [
        "# Palabra reservada *break* ⚡\n",
        "\n",
        "Esta función suspende la ejecución del programa"
      ],
      "metadata": {
        "id": "p8WYmbtwzi5s"
      }
    },
    {
      "cell_type": "code",
      "source": [
        "lista = [\"Juan\", \"Pedro\", \"Maria\", \"Luisa\"]\n",
        "for a in lista:\n",
        "  print (a)\n",
        "  if a == \"Maria\":\n",
        "    break"
      ],
      "metadata": {
        "colab": {
          "base_uri": "https://localhost:8080/"
        },
        "id": "PSo51aL3zrcL",
        "outputId": "b73a383d-3836-4704-bac1-dc99db0ac8a5"
      },
      "execution_count": 6,
      "outputs": [
        {
          "output_type": "stream",
          "name": "stdout",
          "text": [
            "Juan\n",
            "Pedro\n",
            "Maria\n"
          ]
        }
      ]
    },
    {
      "cell_type": "markdown",
      "source": [
        "# Contador para una *string*"
      ],
      "metadata": {
        "id": "W8qIWM941bda"
      }
    },
    {
      "cell_type": "code",
      "source": [
        "#Escribir un programa en el que se pregunte al usuario por una frase y una letra, y muestre por pantalla el número de veces que aparece la letra en la frase.\n",
        "frase = input(\"Introduce una frase: \")\n",
        "letra = input(\"Introduce una letra: \")\n",
        "contador = 0\n",
        "for i in frase:\n",
        "    if i == letra:\n",
        "        contador += 1\n",
        "print(\"La letra '%s' aparece %2i veces en la frase '%s'.\" % (letra, contador, frase))"
      ],
      "metadata": {
        "colab": {
          "base_uri": "https://localhost:8080/"
        },
        "id": "MIsCRPoa1dR6",
        "outputId": "686b9e04-7bd8-4b2c-92d4-dae1ec6cb26f"
      },
      "execution_count": 7,
      "outputs": [
        {
          "output_type": "stream",
          "name": "stdout",
          "text": [
            "Introduce una frase: Me voy pa´ Malambo\n",
            "Introduce una letra: a\n",
            "La letra 'a' aparece  3 veces en la frase 'Me voy pa´ Malambo'.\n"
          ]
        }
      ]
    },
    {
      "cell_type": "markdown",
      "source": [
        "# Palabra reservada *continue*"
      ],
      "metadata": {
        "id": "KE3-bdky111T"
      }
    },
    {
      "cell_type": "code",
      "source": [
        "for i in range(10):\n",
        "  if i % 2 is 1:\n",
        "    continue \n",
        "  print(i)"
      ],
      "metadata": {
        "colab": {
          "base_uri": "https://localhost:8080/"
        },
        "id": "bCyzlBZr18di",
        "outputId": "97fad82a-290d-4772-8ae5-ddea442a8f53"
      },
      "execution_count": 8,
      "outputs": [
        {
          "output_type": "stream",
          "name": "stdout",
          "text": [
            "0\n",
            "2\n",
            "4\n",
            "6\n",
            "8\n"
          ]
        }
      ]
    },
    {
      "cell_type": "markdown",
      "source": [
        "# Problemas en clase"
      ],
      "metadata": {
        "id": "oDXbgw-x25i6"
      }
    },
    {
      "cell_type": "markdown",
      "source": [
        "Hacer un programa que diga si un número es primo o no."
      ],
      "metadata": {
        "id": "eKBOZKA-28u6"
      }
    },
    {
      "cell_type": "code",
      "source": [
        "numero=int(input(\"Ingrese un número: \"))\n",
        "if numero % numero is 0 and numero % 1 is 0 and numero % 2 is 1:\n",
        "  print(\"Este número es primo\")\n",
        "else:\n",
        "  print(\"Este número no es primo\")"
      ],
      "metadata": {
        "colab": {
          "base_uri": "https://localhost:8080/"
        },
        "id": "HB5-X6Vj24tK",
        "outputId": "7b65f2ec-6a58-40c6-9a7f-1cd6a6e9b9e3"
      },
      "execution_count": 31,
      "outputs": [
        {
          "output_type": "stream",
          "name": "stdout",
          "text": [
            "Ingrese un número: 4561\n",
            "Este número es primo\n"
          ]
        }
      ]
    },
    {
      "cell_type": "code",
      "source": [
        "# Cesar Augusto Valencia Carvajal\n",
        "\n",
        "def num_primo(num):\n",
        "    for n in range(2, num):\n",
        "        if num % n == 0:\n",
        "            print(\"No es primo\", n, \"es divisor\")\n",
        "            return False\n",
        "    print(\"Es primo\")\n",
        "    return True\n",
        "\n",
        "num = int(input (\"Introduce una numero:\"))\n",
        "num_primo(num)   "
      ],
      "metadata": {
        "id": "X599WE8H9U9J"
      },
      "execution_count": null,
      "outputs": []
    },
    {
      "cell_type": "code",
      "source": [
        "# César Eduardo López Cardona\n",
        "\n",
        "numero = int(input('Ingrese un número entero positivo mayor que 2: '))\n",
        "numeroprimo = True\n",
        "for i in range(2, numero):\n",
        "  if numero % i == 0:\n",
        "    numeroprimo = False\n",
        "    break\n",
        "if numeroprimo: \n",
        "  print(f'El número {numero} es primo')\n",
        "else: \n",
        "  print('No es un número primo')"
      ],
      "metadata": {
        "id": "FpFdfUKk9Z0a"
      },
      "execution_count": null,
      "outputs": []
    },
    {
      "cell_type": "markdown",
      "source": [
        "Hacer un programa que me evalue si en una cadena infinita de números, el número digitado es primo o no. Solo para si se digita el 1"
      ],
      "metadata": {
        "id": "OXo_0G_644ex"
      }
    },
    {
      "cell_type": "code",
      "source": [
        ""
      ],
      "metadata": {
        "id": "j_xfm3RV5m2M"
      },
      "execution_count": null,
      "outputs": []
    },
    {
      "cell_type": "markdown",
      "source": [
        "Escribir un programa que pida al usuario un número entero positivo y muestre por pantalla todos los números impares desde 1 hasta ese número separados por comas."
      ],
      "metadata": {
        "id": "I74GBfzj4zuy"
      }
    },
    {
      "cell_type": "code",
      "source": [
        "numero=int(input(\"Ingrese un número entero positivo: \"))\n",
        "for i in range(2, numero, 2):\n",
        "   print(i, end=\", \")\n",
        "   \n",
        " \n",
        "\n"
      ],
      "metadata": {
        "colab": {
          "base_uri": "https://localhost:8080/"
        },
        "id": "zmg5FNfP213Z",
        "outputId": "a3209010-89ef-4bf7-c9b1-73e01ca05d24"
      },
      "execution_count": 51,
      "outputs": [
        {
          "output_type": "stream",
          "name": "stdout",
          "text": [
            "Ingrese un número entero positivo: 10\n",
            "2, 4, 6, 8, "
          ]
        }
      ]
    },
    {
      "cell_type": "code",
      "source": [
        "# Cesar Augusto Rodriguez Diaz\n",
        "\n",
        "num = int(input(\"ingrese un numero positivo \"))\n",
        "for i in range(-1,num,2):\n",
        "  print(i , end=\"\"+ \",\")"
      ],
      "metadata": {
        "id": "iYSXMD5AAUbi"
      },
      "execution_count": null,
      "outputs": []
    },
    {
      "cell_type": "markdown",
      "source": [
        "Escribir un programa que pregunte al usuario una cantidad a invertir, el interés anual y el número de años, y muestre por pantalla el capital obtenido en la inversión cada año que dura la inversión."
      ],
      "metadata": {
        "id": "wNj382-d5n2J"
      }
    },
    {
      "cell_type": "code",
      "source": [
        "inversion=float(input(\"Ingrese su inversion: \"))\n",
        "interes=float(input(\"Ingrese su interes deseado: \"))\n",
        "tiempo=float(input(\"Ingrese el tiempo de pago: \"))\n",
        "capital = tiempo*(inversion +((inversion*interes)/100))\n",
        "\n",
        "\n",
        "\n",
        "print(capital)"
      ],
      "metadata": {
        "colab": {
          "base_uri": "https://localhost:8080/"
        },
        "id": "NkRIAKbD5qP8",
        "outputId": "fe01ec90-7b1a-4841-a209-c827e18fbb2a"
      },
      "execution_count": 58,
      "outputs": [
        {
          "output_type": "stream",
          "name": "stdout",
          "text": [
            "Ingrese su inversion: 100\n",
            "Ingrese su interes deseado: 20\n",
            "Ingrese el tiempo de pago: 3\n",
            "360.0\n"
          ]
        }
      ]
    },
    {
      "cell_type": "markdown",
      "source": [
        "Escribir un programa que muestre por pantalla la tabla de multiplicar del 1 al 10."
      ],
      "metadata": {
        "id": "h_ahcaqv5shx"
      }
    },
    {
      "cell_type": "code",
      "source": [
        ""
      ],
      "metadata": {
        "id": "YiFUrNc95r1r"
      },
      "execution_count": null,
      "outputs": []
    },
    {
      "cell_type": "markdown",
      "source": [
        "Analizar que hace el siguiente código"
      ],
      "metadata": {
        "id": "W78tj-rg6YXK"
      }
    },
    {
      "cell_type": "code",
      "source": [
        "n = int(input(\"Introduce un número entero positivo mayor que 2: \"))\n",
        "i = 2\n",
        "while n % i != 0:\n",
        "    i += 1\n",
        "if i == n:\n",
        "    print(str(n) + \" es primo\")\n",
        "else:\n",
        "    print(str(n) + \" no es primo\")"
      ],
      "metadata": {
        "colab": {
          "base_uri": "https://localhost:8080/"
        },
        "id": "_nhV5iOw6XQS",
        "outputId": "0aaf19f6-96c6-4ab6-9500-e213cfeb16b4"
      },
      "execution_count": 32,
      "outputs": [
        {
          "output_type": "stream",
          "name": "stdout",
          "text": [
            "Introduce un número entero positivo mayor que 2: 3\n",
            "3 es primo\n"
          ]
        }
      ]
    },
    {
      "cell_type": "code",
      "source": [
        "amount = float(input(\"¿Cantidad a invertir? \"))\n",
        "interest = float(input(\"¿Interés porcentual anual? \"))\n",
        "years = int(input(\"¿Años?\"))\n",
        "for i in range(years):\n",
        "    amount *= 1 + interest / 100 \n",
        "    print(\"Capital tras \" + str(i+1) + \" años: \" + str(round(amount, 2)))"
      ],
      "metadata": {
        "colab": {
          "base_uri": "https://localhost:8080/"
        },
        "id": "zSKavso4B8ht",
        "outputId": "0b2a0197-f746-4235-8381-c7d67768a154"
      },
      "execution_count": 57,
      "outputs": [
        {
          "output_type": "stream",
          "name": "stdout",
          "text": [
            "¿Cantidad a invertir? 100\n",
            "¿Interés porcentual anual? 30\n",
            "¿Años?9\n",
            "Capital tras 1 años: 130.0\n",
            "Capital tras 2 años: 169.0\n",
            "Capital tras 3 años: 219.7\n",
            "Capital tras 4 años: 285.61\n",
            "Capital tras 5 años: 371.29\n",
            "Capital tras 6 años: 482.68\n",
            "Capital tras 7 años: 627.49\n",
            "Capital tras 8 años: 815.73\n",
            "Capital tras 9 años: 1060.45\n"
          ]
        }
      ]
    },
    {
      "cell_type": "markdown",
      "source": [
        "Escribir un programa que almacene la cadena de caracteres contraseña en una variable, pregunte al usuario por la contraseña hasta que introduzca la contraseña correcta."
      ],
      "metadata": {
        "id": "dfiHISs5DuiD"
      }
    },
    {
      "cell_type": "code",
      "source": [
        "# este problema no pude resolverlo.\n",
        "\n",
        "password=str(input(\"Indroduzca la contraseña: \"))\n",
        "guardada =\"El_Chavo\"\n",
        "while password != guardada:\n",
        "  print(str(input(\"Indroduzca la contraseña: \")))\n",
        "  if (password == guardada):\n",
        "    break\n",
        "print(\"Contraseña correcta\")\n",
        "  "
      ],
      "metadata": {
        "colab": {
          "base_uri": "https://localhost:8080/",
          "height": 688
        },
        "id": "cGoCxynNDvAJ",
        "outputId": "86a91741-c46b-482a-f2f4-cba9cf1b4b38"
      },
      "execution_count": 76,
      "outputs": [
        {
          "metadata": {
            "tags": null
          },
          "name": "stdout",
          "output_type": "stream",
          "text": [
            "po\n",
            "po\n",
            "El_Chavo\n",
            "El_Chavo\n",
            "El_Chavo\n",
            "El_Chavo\n"
          ]
        },
        {
          "output_type": "error",
          "ename": "KeyboardInterrupt",
          "evalue": "ignored",
          "traceback": [
            "\u001b[0;31m---------------------------------------------------------------------------\u001b[0m",
            "\u001b[0;31mKeyboardInterrupt\u001b[0m                         Traceback (most recent call last)",
            "\u001b[0;32m/usr/local/lib/python3.7/dist-packages/ipykernel/kernelbase.py\u001b[0m in \u001b[0;36m_input_request\u001b[0;34m(self, prompt, ident, parent, password)\u001b[0m\n\u001b[1;32m    728\u001b[0m             \u001b[0;32mtry\u001b[0m\u001b[0;34m:\u001b[0m\u001b[0;34m\u001b[0m\u001b[0;34m\u001b[0m\u001b[0m\n\u001b[0;32m--> 729\u001b[0;31m                 \u001b[0mident\u001b[0m\u001b[0;34m,\u001b[0m \u001b[0mreply\u001b[0m \u001b[0;34m=\u001b[0m \u001b[0mself\u001b[0m\u001b[0;34m.\u001b[0m\u001b[0msession\u001b[0m\u001b[0;34m.\u001b[0m\u001b[0mrecv\u001b[0m\u001b[0;34m(\u001b[0m\u001b[0mself\u001b[0m\u001b[0;34m.\u001b[0m\u001b[0mstdin_socket\u001b[0m\u001b[0;34m,\u001b[0m \u001b[0;36m0\u001b[0m\u001b[0;34m)\u001b[0m\u001b[0;34m\u001b[0m\u001b[0;34m\u001b[0m\u001b[0m\n\u001b[0m\u001b[1;32m    730\u001b[0m             \u001b[0;32mexcept\u001b[0m \u001b[0mException\u001b[0m\u001b[0;34m:\u001b[0m\u001b[0;34m\u001b[0m\u001b[0;34m\u001b[0m\u001b[0m\n",
            "\u001b[0;32m/usr/local/lib/python3.7/dist-packages/jupyter_client/session.py\u001b[0m in \u001b[0;36mrecv\u001b[0;34m(self, socket, mode, content, copy)\u001b[0m\n\u001b[1;32m    802\u001b[0m         \u001b[0;32mtry\u001b[0m\u001b[0;34m:\u001b[0m\u001b[0;34m\u001b[0m\u001b[0;34m\u001b[0m\u001b[0m\n\u001b[0;32m--> 803\u001b[0;31m             \u001b[0mmsg_list\u001b[0m \u001b[0;34m=\u001b[0m \u001b[0msocket\u001b[0m\u001b[0;34m.\u001b[0m\u001b[0mrecv_multipart\u001b[0m\u001b[0;34m(\u001b[0m\u001b[0mmode\u001b[0m\u001b[0;34m,\u001b[0m \u001b[0mcopy\u001b[0m\u001b[0;34m=\u001b[0m\u001b[0mcopy\u001b[0m\u001b[0;34m)\u001b[0m\u001b[0;34m\u001b[0m\u001b[0;34m\u001b[0m\u001b[0m\n\u001b[0m\u001b[1;32m    804\u001b[0m         \u001b[0;32mexcept\u001b[0m \u001b[0mzmq\u001b[0m\u001b[0;34m.\u001b[0m\u001b[0mZMQError\u001b[0m \u001b[0;32mas\u001b[0m \u001b[0me\u001b[0m\u001b[0;34m:\u001b[0m\u001b[0;34m\u001b[0m\u001b[0;34m\u001b[0m\u001b[0m\n",
            "\u001b[0;32m/usr/local/lib/python3.7/dist-packages/zmq/sugar/socket.py\u001b[0m in \u001b[0;36mrecv_multipart\u001b[0;34m(self, flags, copy, track)\u001b[0m\n\u001b[1;32m    624\u001b[0m         \"\"\"\n\u001b[0;32m--> 625\u001b[0;31m         \u001b[0mparts\u001b[0m \u001b[0;34m=\u001b[0m \u001b[0;34m[\u001b[0m\u001b[0mself\u001b[0m\u001b[0;34m.\u001b[0m\u001b[0mrecv\u001b[0m\u001b[0;34m(\u001b[0m\u001b[0mflags\u001b[0m\u001b[0;34m,\u001b[0m \u001b[0mcopy\u001b[0m\u001b[0;34m=\u001b[0m\u001b[0mcopy\u001b[0m\u001b[0;34m,\u001b[0m \u001b[0mtrack\u001b[0m\u001b[0;34m=\u001b[0m\u001b[0mtrack\u001b[0m\u001b[0;34m)\u001b[0m\u001b[0;34m]\u001b[0m\u001b[0;34m\u001b[0m\u001b[0;34m\u001b[0m\u001b[0m\n\u001b[0m\u001b[1;32m    626\u001b[0m         \u001b[0;31m# have first part already, only loop while more to receive\u001b[0m\u001b[0;34m\u001b[0m\u001b[0;34m\u001b[0m\u001b[0;34m\u001b[0m\u001b[0m\n",
            "\u001b[0;32mzmq/backend/cython/socket.pyx\u001b[0m in \u001b[0;36mzmq.backend.cython.socket.Socket.recv\u001b[0;34m()\u001b[0m\n",
            "\u001b[0;32mzmq/backend/cython/socket.pyx\u001b[0m in \u001b[0;36mzmq.backend.cython.socket.Socket.recv\u001b[0;34m()\u001b[0m\n",
            "\u001b[0;32mzmq/backend/cython/socket.pyx\u001b[0m in \u001b[0;36mzmq.backend.cython.socket._recv_copy\u001b[0;34m()\u001b[0m\n",
            "\u001b[0;32m/usr/local/lib/python3.7/dist-packages/zmq/backend/cython/checkrc.pxd\u001b[0m in \u001b[0;36mzmq.backend.cython.checkrc._check_rc\u001b[0;34m()\u001b[0m\n",
            "\u001b[0;31mKeyboardInterrupt\u001b[0m: ",
            "\nDuring handling of the above exception, another exception occurred:\n",
            "\u001b[0;31mKeyboardInterrupt\u001b[0m                         Traceback (most recent call last)",
            "\u001b[0;32m<ipython-input-76-911938ffd514>\u001b[0m in \u001b[0;36m<module>\u001b[0;34m()\u001b[0m\n\u001b[1;32m      4\u001b[0m \u001b[0mguardada\u001b[0m \u001b[0;34m=\u001b[0m\u001b[0;34m\"El_Chavo\"\u001b[0m\u001b[0;34m\u001b[0m\u001b[0;34m\u001b[0m\u001b[0m\n\u001b[1;32m      5\u001b[0m \u001b[0;32mwhile\u001b[0m \u001b[0mpassword\u001b[0m \u001b[0;34m!=\u001b[0m \u001b[0mguardada\u001b[0m\u001b[0;34m:\u001b[0m\u001b[0;34m\u001b[0m\u001b[0;34m\u001b[0m\u001b[0m\n\u001b[0;32m----> 6\u001b[0;31m   \u001b[0mprint\u001b[0m\u001b[0;34m(\u001b[0m\u001b[0mstr\u001b[0m\u001b[0;34m(\u001b[0m\u001b[0minput\u001b[0m\u001b[0;34m(\u001b[0m\u001b[0;34m\"Indroduzca la contraseña: \"\u001b[0m\u001b[0;34m)\u001b[0m\u001b[0;34m)\u001b[0m\u001b[0;34m)\u001b[0m\u001b[0;34m\u001b[0m\u001b[0;34m\u001b[0m\u001b[0m\n\u001b[0m\u001b[1;32m      7\u001b[0m   \u001b[0;32mif\u001b[0m \u001b[0;34m(\u001b[0m\u001b[0mpassword\u001b[0m \u001b[0;34m==\u001b[0m \u001b[0mguardada\u001b[0m\u001b[0;34m)\u001b[0m\u001b[0;34m:\u001b[0m\u001b[0;34m\u001b[0m\u001b[0;34m\u001b[0m\u001b[0m\n\u001b[1;32m      8\u001b[0m     \u001b[0;32mbreak\u001b[0m\u001b[0;34m\u001b[0m\u001b[0;34m\u001b[0m\u001b[0m\n",
            "\u001b[0;32m/usr/local/lib/python3.7/dist-packages/ipykernel/kernelbase.py\u001b[0m in \u001b[0;36mraw_input\u001b[0;34m(self, prompt)\u001b[0m\n\u001b[1;32m    702\u001b[0m             \u001b[0mself\u001b[0m\u001b[0;34m.\u001b[0m\u001b[0m_parent_ident\u001b[0m\u001b[0;34m,\u001b[0m\u001b[0;34m\u001b[0m\u001b[0;34m\u001b[0m\u001b[0m\n\u001b[1;32m    703\u001b[0m             \u001b[0mself\u001b[0m\u001b[0;34m.\u001b[0m\u001b[0m_parent_header\u001b[0m\u001b[0;34m,\u001b[0m\u001b[0;34m\u001b[0m\u001b[0;34m\u001b[0m\u001b[0m\n\u001b[0;32m--> 704\u001b[0;31m             \u001b[0mpassword\u001b[0m\u001b[0;34m=\u001b[0m\u001b[0;32mFalse\u001b[0m\u001b[0;34m,\u001b[0m\u001b[0;34m\u001b[0m\u001b[0;34m\u001b[0m\u001b[0m\n\u001b[0m\u001b[1;32m    705\u001b[0m         )\n\u001b[1;32m    706\u001b[0m \u001b[0;34m\u001b[0m\u001b[0m\n",
            "\u001b[0;32m/usr/local/lib/python3.7/dist-packages/ipykernel/kernelbase.py\u001b[0m in \u001b[0;36m_input_request\u001b[0;34m(self, prompt, ident, parent, password)\u001b[0m\n\u001b[1;32m    732\u001b[0m             \u001b[0;32mexcept\u001b[0m \u001b[0mKeyboardInterrupt\u001b[0m\u001b[0;34m:\u001b[0m\u001b[0;34m\u001b[0m\u001b[0;34m\u001b[0m\u001b[0m\n\u001b[1;32m    733\u001b[0m                 \u001b[0;31m# re-raise KeyboardInterrupt, to truncate traceback\u001b[0m\u001b[0;34m\u001b[0m\u001b[0;34m\u001b[0m\u001b[0;34m\u001b[0m\u001b[0m\n\u001b[0;32m--> 734\u001b[0;31m                 \u001b[0;32mraise\u001b[0m \u001b[0mKeyboardInterrupt\u001b[0m\u001b[0;34m\u001b[0m\u001b[0;34m\u001b[0m\u001b[0m\n\u001b[0m\u001b[1;32m    735\u001b[0m             \u001b[0;32melse\u001b[0m\u001b[0;34m:\u001b[0m\u001b[0;34m\u001b[0m\u001b[0;34m\u001b[0m\u001b[0m\n\u001b[1;32m    736\u001b[0m                 \u001b[0;32mbreak\u001b[0m\u001b[0;34m\u001b[0m\u001b[0;34m\u001b[0m\u001b[0m\n",
            "\u001b[0;31mKeyboardInterrupt\u001b[0m: "
          ]
        }
      ]
    },
    {
      "cell_type": "code",
      "source": [
        "# Solución dada por Carlos Mario Vargas Penagos \n",
        "\n",
        "pssw=(input(\"Establezca una nueva contraseña: \"))\n",
        "while True:\n",
        "  print(\"\\n Por favor, inicie sesion con la misma contraseña \")\n",
        "  npssw=(input(\"Introduzca la contraseña: \"))\n",
        "  if(npssw == pssw):\n",
        "    break\n",
        "print(\"\\n Contraseña correcta, bienvenido\")"
      ],
      "metadata": {
        "colab": {
          "base_uri": "https://localhost:8080/"
        },
        "id": "nleBcjANGgk6",
        "outputId": "d730d7c6-02d9-4e58-e275-12b5524b327d"
      },
      "execution_count": 72,
      "outputs": [
        {
          "output_type": "stream",
          "name": "stdout",
          "text": [
            "Establezca una nueva contraseña: op\n",
            "\n",
            " Por favor, inicie sesion con la misma contraseña \n",
            "Introduzca la contraseña: po\n",
            "\n",
            " Por favor, inicie sesion con la misma contraseña \n",
            "Introduzca la contraseña: op\n",
            "\n",
            " Contraseña correcta, bienvenido\n"
          ]
        }
      ]
    }
  ]
}