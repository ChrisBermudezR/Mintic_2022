{
  "nbformat": 4,
  "nbformat_minor": 0,
  "metadata": {
    "colab": {
      "name": "20220428.ipynb",
      "provenance": []
    },
    "kernelspec": {
      "name": "python3",
      "display_name": "Python 3"
    },
    "language_info": {
      "name": "python"
    }
  },
  "cells": [
    {
      "cell_type": "markdown",
      "source": [
        "1.\tHaga un programa que calcule el valor de un computador sabiendo que tienen un precio de venta y se hace un descuento dependiendo de la forma de pago, si es efectivo se le descuenta 30% del valor venta, si es con tarjeta crédito se le descuenta 15% del valor venta y si es con tarjeta debito se le descuenta un 25% del valor venta"
      ],
      "metadata": {
        "id": "7WJuV36Y3m5V"
      }
    },
    {
      "cell_type": "code",
      "execution_count": null,
      "metadata": {
        "colab": {
          "base_uri": "https://localhost:8080/"
        },
        "id": "gHVAQBPY3jMO",
        "outputId": "5c1ad491-c2f3-4898-8006-1cc1a603a615"
      },
      "outputs": [
        {
          "output_type": "stream",
          "name": "stdout",
          "text": [
            "Si su pago es en efectivo digite 1, si es con tarjeta de crédito digite 2 y si es con tarjeta débito digite 3 5\n",
            "Digite el precio del computador: 232\n",
            "No eligió correctamente su método de pago. Reinicie su consulta.\n"
          ]
        }
      ],
      "source": [
        "def f(valor, pago):\n",
        "  if pago == 1:\n",
        "    return print(f'El precio del computador es: {valor-(valor*0.3)}')\n",
        "  elif pago == 2:\n",
        "    return print(f'El precio del computador es: {valor-(valor*0.15)}')\n",
        "  elif pago == 3:\n",
        "      return print(f'El precio del computador es: {valor-(valor*0.25)}')\n",
        "  else:\n",
        "      return print(\"No eligió correctamente su método de pago. Reinicie su consulta.\")\n",
        "\n",
        "pago=int(input(\"Si su pago es en efectivo digite 1, si es con tarjeta de crédito digite 2 y si es con tarjeta débito digite 3 \"))\n",
        "valor=float(input(\"Digite el precio del computador: \"))\n",
        "f(valor, pago)\n",
        "\n",
        "\n"
      ]
    },
    {
      "cell_type": "code",
      "source": [
        "# Algoritmo propuesto por Cindy Daniela Moreno Riveros\n",
        "def f(v,p):\n",
        "  ef= (v*70//100)\n",
        "  cre= v*85//100\n",
        "  deb=v*75//100\n",
        "\n",
        "  if p == 'efectivo':\n",
        "   return print(f\"\\n El descuento por pago en efectivo es: {ef}\")\n",
        "  elif p=='credito':\n",
        "   return print(f\"\\n El descuento por pago en T, credito es: {cre}\")\n",
        "  elif p=='debito':\n",
        "   return print(f\"\\n El descuento por pago en T, debito es: {deb}\")\n",
        "  else:\n",
        "   return print(f\"\\n Forma de pago incorrecta\")\n",
        "\n",
        "v=float(input(\"Ingrese el valor del computador:\"))\n",
        "p=str(input(\"Ingrese la forma de pago:\"))\n",
        "f(v,p)"
      ],
      "metadata": {
        "id": "H2N8jLkqKAEl"
      },
      "execution_count": null,
      "outputs": []
    },
    {
      "cell_type": "code",
      "source": [
        "#subido por Carlos Mario Gutiérrez Montoya\n",
        "\n",
        "def metodo_pago(p,v):   \n",
        "    \n",
        "  if p==1:\n",
        "    v1= v-((v*30)/100)\n",
        "    return (print(f'el valor a pagar es: {v1}'))\n",
        "  elif p==(2):\n",
        "    v2= v-((v*15)/100)\n",
        "    return  (print(f'el valor a pagar es: {v2}'))\n",
        "  elif p==(3):\n",
        "    v3= v-((v*20)/100)\n",
        "    return (print(f'el valor a pagar es: {v3}'))\n",
        "  else :\n",
        "    return print('no es un valor valido¡¡')\n",
        "\n",
        "v=int(input('ingrese el valor del computador: '))\n",
        "p=int(input('Ingrese metodo de pago: \\n si es efectivo digite 1 \\n Tarjeta de Credito digite 2 \\n Tarjeta De"
      ],
      "metadata": {
        "id": "5-JvZdu5Jxkc"
      },
      "execution_count": null,
      "outputs": []
    },
    {
      "cell_type": "code",
      "source": [
        "#Alternativa al anterior propuesta por Cindy Daniela Moreno Riveros\n",
        "def f(v,p):\n",
        "  ef= (v*70//100)\n",
        "  cre= v*85//100\n",
        "  deb=v*75//100\n",
        "\n",
        "  if p == 'efectivo':\n",
        "   return print(f\"\\n El descuento por pago en efectivo es: {ef}\")\n",
        "  elif p=='credito':\n",
        "   return print(f\"\\n El descuento por pago en T, credito es: {cre}\")\n",
        "  elif p=='debito':\n",
        "   return print(f\"\\n El descuento por pago en T, debito es: {deb}\")\n",
        "v=float(input(\"Ingrese el valor del computador:\"))\n",
        "p=str(input(\"Ingrese la forma de pago:\"))\n",
        "f(v,p)\n",
        "#Este algooritmo no tiene una alternativa al error de digitación"
      ],
      "metadata": {
        "colab": {
          "base_uri": "https://localhost:8080/"
        },
        "id": "UBVUsBYv_KKE",
        "outputId": "a389eefb-8a5f-46d1-b1c7-3640afc45d74"
      },
      "execution_count": null,
      "outputs": [
        {
          "name": "stdout",
          "output_type": "stream",
          "text": [
            "Ingrese el valor del computador:400000\n",
            "Ingrese la forma de pago:ewefsdf\n"
          ]
        }
      ]
    },
    {
      "cell_type": "markdown",
      "source": [
        "2.\tHaga un programa que dados tres números diga cual es el mayor."
      ],
      "metadata": {
        "id": "ZhDFog0b3qts"
      }
    },
    {
      "cell_type": "code",
      "source": [
        "def f(x,y,z):\n",
        "  if x == y and x == z and z == y:\n",
        "    return print(\"Todos los números son iguales\")\n",
        "  elif x > y and x > z :\n",
        "    return print(f'{x} es el mayor de todos los números')\n",
        "  elif y > x and y > z :\n",
        "    return print(f'{y} es el mayor de todos los números')\n",
        "  elif z > x and z > y :\n",
        "    return print(f'{z} es el mayor de todos los números')\n",
        "  else:\n",
        "    return print(\"Hay dos números que son mayores que uno de los números\")\n",
        "\n",
        "x=float(input(\"Ingrese un número:\"))\n",
        "y=float(input(\"Ingrese otro número:\"))\n",
        "z=float(input(\"Ingrese el último número:\"))\n",
        "f(x,y,z)"
      ],
      "metadata": {
        "colab": {
          "base_uri": "https://localhost:8080/"
        },
        "id": "r7Exxzjr3tAl",
        "outputId": "21cf0ae6-712d-4b41-8c49-05b958c6648b"
      },
      "execution_count": null,
      "outputs": [
        {
          "output_type": "stream",
          "name": "stdout",
          "text": [
            "Ingrese un número:1\n",
            "Ingrese otro número:1\n",
            "Ingrese el último número:3\n",
            "3.0 es el mayor de todos los números\n"
          ]
        }
      ]
    },
    {
      "cell_type": "code",
      "source": [
        "#Alternativa propuesta por Claudia Liliana Medina Tovar\n",
        "\n",
        "a= int(input(\"ingrese numero 1\"))\n",
        "b=int(input(\"ingrese numero 2\"))\n",
        "c=int(input(\"ingrese numero 3\"))\n",
        "if a>b and a>c:\n",
        "  print (\"el numero mayor es\", a)\n",
        "elif b>a and b>c:\n",
        "  print (\"el numero mayor es\", b)\n",
        "elif c>a and c>b:\n",
        "  print (\"el numero mayor es\", c)"
      ],
      "metadata": {
        "id": "Z350qoWcFA-0"
      },
      "execution_count": null,
      "outputs": []
    },
    {
      "cell_type": "code",
      "source": [
        "#Subido por Cristian Herney Torres Hernandez\n",
        "\n",
        "def mayorQue(a,b,c):\n",
        "  if a>=b>=c:\n",
        "    return print(f\" {a} es mayor que {b} y {c}\")\n",
        "  elif b>=a>=c:\n",
        "    return print(f\" {b} es mayor que {a} y {c}\")\n",
        "  elif c>=b>=a:\n",
        "    return print(f\" {c} es mayor que {a} y {b}\")\n",
        "  elif a == b == c: \n",
        "    return print(\"son iguales \")\n",
        "a = int(input(\"primer numero : \"))\n",
        "b = int(input(\"segundo numero : \"))\n",
        "c = int(input(\"Tercero numero : \"))\n",
        "mayorQue(a,b,c)"
      ],
      "metadata": {
        "id": "uJd9iwv1I2aa"
      },
      "execution_count": null,
      "outputs": []
    },
    {
      "cell_type": "markdown",
      "source": [
        "3.\tHaga un programa que calcule el salario neto de un empleado sabiendo que el salario básico de él se calcula de acuerdo con número de horas trabajadas y la hora tiene un valor especifico, además si ese salario es menor que dos salarios mínimos legales vigente (smlv) se le paga un subsidio de transporte equivalente a 55000.  (el smlv=565000)."
      ],
      "metadata": {
        "id": "TrcAkb-g3tn1"
      }
    },
    {
      "cell_type": "code",
      "source": [
        "def f(valorHora, horas):\n",
        "  basico=valorHora*horas\n",
        "  if basico < 2*565000:\n",
        "    return print(f'El sueldo básico del empleado será de {basico} y del sueldo neto será de {basico + 55000} con subsidio de transporte.')\n",
        "  else:\n",
        "    return print(f'el sueldo neto del empleado será de {basico} sin subsidio de transporte.')\n",
        "valorHora=float(input(\"¿Cuál es el valor de la hora?: \"))\n",
        "horas=float(input(\"¿Cuántas horas trabajó el empleado?: \"))\n",
        "f(valorHora, horas)"
      ],
      "metadata": {
        "colab": {
          "base_uri": "https://localhost:8080/"
        },
        "id": "zhlcxSd13xgl",
        "outputId": "2d7d57eb-be84-4519-db19-cd426631c822"
      },
      "execution_count": null,
      "outputs": [
        {
          "output_type": "stream",
          "name": "stdout",
          "text": [
            "¿Cuál es el valor de la hora?: 48000\n",
            "¿Cuántas horas trabajó el empleado?: 20\n",
            "El sueldo básico del empleado será de 960000.0 y del sueldo neto será de 1015000.0 con subsidio de transporte.\n"
          ]
        }
      ]
    },
    {
      "cell_type": "code",
      "source": [
        "#Subido por Carlos Mario Vargas Penagos\n",
        "\n",
        "def metodo_pago(p,v):   \n",
        "    \n",
        "  if p==1:\n",
        "    v1= v-((v*30)/100)\n",
        "    return (print(f'el valor a pagar es: {v1}'))\n",
        "  elif p==(2):\n",
        "    v2= v-((v*15)/100)\n",
        "    return  (print(f'el valor a pagar es: {v2}'))\n",
        "  elif p==(3):\n",
        "    v3= v-((v*20)/100)\n",
        "    return (print(f'el valor a pagar es: {v3}'))\n",
        "  else :\n",
        "    return print('no es un valor valido¡¡')\n",
        "\n",
        "v=int(input('ingrese el valor del computador: '))\n",
        "p=int(input('Ingrese metodo de pago: \\n si es efectivo digite 1 \\n Tarjeta de Credito digite 2 \\n Tarjeta Debito digite 3'))\n",
        "\n",
        "metodo_pago(p,v)"
      ],
      "metadata": {
        "id": "HF3hzdtRIuYq"
      },
      "execution_count": null,
      "outputs": []
    }
  ]
}