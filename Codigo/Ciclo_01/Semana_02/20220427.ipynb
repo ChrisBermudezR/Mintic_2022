{
  "nbformat": 4,
  "nbformat_minor": 0,
  "metadata": {
    "colab": {
      "name": "20220427.ipynb",
      "provenance": [],
      "collapsed_sections": []
    },
    "kernelspec": {
      "name": "python3",
      "display_name": "Python 3"
    },
    "language_info": {
      "name": "python"
    }
  },
  "cells": [
    {
      "cell_type": "markdown",
      "source": [
        "20220427"
      ],
      "metadata": {
        "id": "HOF9hIn5r2gZ"
      }
    },
    {
      "cell_type": "markdown",
      "source": [
        "Ejercicios\n",
        "1.\tHaga un programa que calcule el porcentaje de alumnos perdidos y de alumnos que ganaron.\n"
      ],
      "metadata": {
        "id": "mMznCMGRs-EA"
      }
    },
    {
      "cell_type": "code",
      "execution_count": null,
      "metadata": {
        "colab": {
          "base_uri": "https://localhost:8080/"
        },
        "id": "Q3f8cLBvrxI_",
        "outputId": "029aa7b1-c2fe-4265-d957-fa2863964aa0"
      },
      "outputs": [
        {
          "output_type": "stream",
          "name": "stdout",
          "text": [
            "¿Cuál es el total de estudiantes en el grupo? 100\n",
            "¿Cuantos estudiantes ganaron el año? 20\n",
            "El porcentaje de los estudiantes que ganaron el año fue del 20.0% y El porcentaje de los estudiantes que perdieron el año fue del 80.0%\n"
          ]
        }
      ],
      "source": [
        "#Ejercicio 1\n",
        "\n",
        "def resultadosGrupo(total, ganadores):\n",
        "  perdedores= total-ganadores\n",
        "  porcentaje_ganadores=ganadores*100/total\n",
        "  porcentaje_perdedores=100-porcentaje_ganadores\n",
        "  return print(f'El porcentaje de los estudiantes que ganaron el año fue del {porcentaje_ganadores}% y El porcentaje de los estudiantes que perdieron el año fue del {porcentaje_perdedores}%')\n",
        "\n",
        "total=(int(input(\"¿Cuál es el total de estudiantes en el grupo? \")))\n",
        "ganadores=(int(input(\"¿Cuantos estudiantes ganaron el año? \")))\n",
        "\n",
        "resultadosGrupo(total, ganadores)\n",
        "\n"
      ]
    },
    {
      "cell_type": "markdown",
      "source": [
        "2.\tHaga un programa que calcule el valor de un computador si es día de descuento.\n"
      ],
      "metadata": {
        "id": "7hkGMXJaxnim"
      }
    },
    {
      "cell_type": "code",
      "source": [
        "#Ejercicio 2\n",
        "\n",
        "def f(precio, descuento):\n",
        "   return precio-(precio*descuento/100)\n",
        "\n",
        "precio=(float(input(\"Precio \")))\n",
        "descuento=(float(input(\"Descuento \")))\n",
        "\n",
        "f(precio, descuento)"
      ],
      "metadata": {
        "colab": {
          "base_uri": "https://localhost:8080/"
        },
        "id": "CituhOnuxqwW",
        "outputId": "e9f58e9d-2ea8-43c6-91f1-051188f4f8db"
      },
      "execution_count": null,
      "outputs": [
        {
          "name": "stdout",
          "output_type": "stream",
          "text": [
            "Precio 50\n",
            "Descuento 10\n"
          ]
        },
        {
          "output_type": "execute_result",
          "data": {
            "text/plain": [
              "45.0"
            ]
          },
          "metadata": {},
          "execution_count": 26
        }
      ]
    },
    {
      "cell_type": "markdown",
      "source": [
        "3.\tHaga un programa que calcule el salario básico para un empleado sabiendo que el empleado gana un salario bruto, a ese salario bruto se le descuenta el 10% por la retención en la fuente, 1% para Sena, 1% para icbf y 2% por estampilla. Y sobre el valor resultante se le descuenta el 0.4%  correspondiente al 4*1000."
      ],
      "metadata": {
        "id": "yO5IuGz7xwZO"
      }
    },
    {
      "cell_type": "code",
      "source": [
        "#Ejercicio 3\n",
        "\n",
        "def f(SalarioBruto):\n",
        "  primario = SalarioBruto-(SalarioBruto*0.1)-(SalarioBruto*0.01)-(SalarioBruto*0.01)-(SalarioBruto*0.02)\n",
        "  return print(f'El salario básico final es de {primario-(primario*0.04)}')\n",
        "SalarioBruto=float(input(\"¿Cuál es el salario bruto del empleado: \"))\n",
        "\n",
        "f(SalarioBruto)"
      ],
      "metadata": {
        "colab": {
          "base_uri": "https://localhost:8080/"
        },
        "id": "8qYCAaZ70tdF",
        "outputId": "66eb5929-9f58-4dc2-93e4-06f125ba1110"
      },
      "execution_count": null,
      "outputs": [
        {
          "output_type": "stream",
          "name": "stdout",
          "text": [
            "¿Cuál es el salario bruto del empleado: 500000\n",
            "El salario básico final es de 412800.0\n"
          ]
        }
      ]
    },
    {
      "cell_type": "markdown",
      "source": [
        "4.\tHaga un programa que dados dos numero diga cuál es el mayor"
      ],
      "metadata": {
        "id": "OiOdriL90t6s"
      }
    },
    {
      "cell_type": "code",
      "source": [
        "#Ejercicio 4\n",
        "\n",
        "def f(x,y): \n",
        "  if x > y :\n",
        "    return print(f\"{x} es mayor que {y}\")\n",
        "  elif y > x:\n",
        "    return print(f'{y} es mayor que {x}')\n",
        "  elif y== x:\n",
        "    return print(f'{y} y {x} son iguales')\n",
        "x=(float(input(\"digite un número: \")))\n",
        "y=(float(input(\"digite otro número: \")))\n",
        "f(x,y)"
      ],
      "metadata": {
        "colab": {
          "base_uri": "https://localhost:8080/"
        },
        "id": "mJ5KpCqZ097l",
        "outputId": "0d5243e0-5522-4d0c-f2c9-ad1f21b27068"
      },
      "execution_count": null,
      "outputs": [
        {
          "output_type": "stream",
          "name": "stdout",
          "text": [
            "digite un número: 1\n",
            "digite otro número: 1\n",
            "1.0 y 1.0 son iguales\n"
          ]
        }
      ]
    },
    {
      "cell_type": "markdown",
      "source": [
        "5.\tHaga un programa que calcule el promedio de notas para 3 notas.  Si el promedio es menor a 3 aparezca un mensaje el estudiante perdió en caso contrario diga el estudiante gano."
      ],
      "metadata": {
        "id": "q2ur49k00vol"
      }
    },
    {
      "cell_type": "code",
      "source": [
        "#Ejercicio 5\n",
        "\n",
        "import statistics\n",
        "def f(x,y,z):\n",
        "  notas=[x,y,z]\n",
        "  promedio = sum(notas) /  len(notas)\n",
        "  if promedio < 3:\n",
        "    return print(\"El estudiante perdió la materia\")\n",
        "  else:\n",
        "    return print(\"El estudiante ganó la materia\")\n",
        "x=float(input(\"Nota 1: \"))\n",
        "y=float(input(\"Nota 2: \"))\n",
        "z=float(input(\"Nota 3: \"))\n",
        "\n",
        "f(x,y,z)"
      ],
      "metadata": {
        "colab": {
          "base_uri": "https://localhost:8080/"
        },
        "id": "5_o7a8bq0-nk",
        "outputId": "cdf35812-5773-4dab-9208-f1808513fa1e"
      },
      "execution_count": null,
      "outputs": [
        {
          "output_type": "stream",
          "name": "stdout",
          "text": [
            "Nota 1: 3\n",
            "Nota 2: 3\n",
            "Nota 3: 3\n",
            "El estudiante ganó la materia\n"
          ]
        }
      ]
    },
    {
      "cell_type": "markdown",
      "source": [
        "6.\tHaga un programa que calcule el promedio de notas para 3 notas.  Si el promedio es menor a tres aparezca un mensaje el estudiante perdió, si el promedio es mayor o igual a tres y menor que cuatro aparezca  un mensaje bien es estudiante gano, si el promedio es mayor o igual a cuatro el mensaje diga excelente promedio superior. "
      ],
      "metadata": {
        "id": "En5kWjd40x-N"
      }
    },
    {
      "cell_type": "code",
      "source": [
        "#Ejercicio 6\n",
        "\n",
        "import statistics\n",
        "def f(x,y,z):\n",
        "  notas=[x,y,z]\n",
        "  promedio = sum(notas) /  len(notas)\n",
        "  if promedio < 3:\n",
        "    return print(f'El estudiante perdió la materia. Su promedio es {promedio}')\n",
        "  elif promedio >= 3 and promedio < 4:\n",
        "    return print(f'El estudiante ganó la materia. Su promedio es {promedio}')\n",
        "  elif promedio > 4:\n",
        "    return print(f'El estudiante es excelente. Su promedio es {promedio}')\n",
        "x=float(input(\"Nota 1: \"))\n",
        "y=float(input(\"Nota 2: \"))\n",
        "z=float(input(\"Nota 3: \"))\n",
        "f(x,y,z)"
      ],
      "metadata": {
        "colab": {
          "base_uri": "https://localhost:8080/"
        },
        "id": "8cKQeYB26eyL",
        "outputId": "548ce101-caca-4744-9616-98966cdeff27"
      },
      "execution_count": null,
      "outputs": [
        {
          "output_type": "stream",
          "name": "stdout",
          "text": [
            "Nota 1: 1\n",
            "Nota 2: 1\n",
            "Nota 3: 1\n",
            "El estudiante perdió la materia. Su promedio es 1.0\n"
          ]
        }
      ]
    },
    {
      "cell_type": "markdown",
      "source": [
        "7.\tHaga un programa que dado un número, si este es mayor que 30 calcule el cubo, en caso contrario calcule el cuadrado."
      ],
      "metadata": {
        "id": "Qnis7Sef-oBy"
      }
    },
    {
      "cell_type": "code",
      "source": [
        "#Ejercicio 7\n",
        "def f(x):\n",
        "  if x >30:\n",
        "    return x**3\n",
        "  else:\n",
        "    return x**2\n",
        "x=float(input('Ingrese un número: '))\n",
        "f(x)"
      ],
      "metadata": {
        "colab": {
          "base_uri": "https://localhost:8080/"
        },
        "id": "bbd6b9DP-pcA",
        "outputId": "24f4bdc9-c511-421f-e2ca-a6c9ef157948"
      },
      "execution_count": null,
      "outputs": [
        {
          "name": "stdout",
          "output_type": "stream",
          "text": [
            "Ingrese un número: 5\n"
          ]
        },
        {
          "output_type": "execute_result",
          "data": {
            "text/plain": [
              "25.0"
            ]
          },
          "metadata": {},
          "execution_count": 72
        }
      ]
    },
    {
      "cell_type": "markdown",
      "source": [
        "8.\tHaga un programa que calcule el salario neto de un empleado sabiendo que el salario básico de él se calcula de acuerdo a número de horas trabajadas y la hora tiene un valor especifico, además si ese salario es menor que dos salarios mínimos legales vigente (smlv) se le paga un subsidio de transporte equivalente a 55000.  (el smlv=565000)."
      ],
      "metadata": {
        "id": "oUZWbA6o-qAe"
      }
    },
    {
      "cell_type": "code",
      "source": [
        "#Ejercicio 8\n",
        "\n",
        "def f(valorHora, horas):\n",
        "  basico=valorHora*horas\n",
        "  if basico < 2*565000:\n",
        "    return print(f'El sueldo básico del empleado será de {basico} y del sueldo neto será de {basico + 55000} con subsidio de transporte.')\n",
        "  else:\n",
        "    return print(f'el sueldo neto del empleado será de {basico} sin subsidio de transporte.')\n",
        "valorHora=float(input(\"¿Cuál es el valor de la hora?: \"))\n",
        "horas=float(input(\"¿Cuántas horas trabajó el empleado?: \"))\n",
        "f(valorHora, horas)"
      ],
      "metadata": {
        "colab": {
          "base_uri": "https://localhost:8080/"
        },
        "id": "bLe0HEqj-r13",
        "outputId": "8b2f78df-bc95-496a-a577-d7d9e2ac1372"
      },
      "execution_count": null,
      "outputs": [
        {
          "output_type": "stream",
          "name": "stdout",
          "text": [
            "¿Cuál es el valor de la hora?: 5000\n",
            "¿Cuántas horas trabajó el empleado?: 160\n",
            "El sueldo básico del empleado será de 800000.0 y del sueldo neto será de 855000.0 con subsidio de transporte\n"
          ]
        }
      ]
    }
  ]
}