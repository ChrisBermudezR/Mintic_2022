{
  "nbformat": 4,
  "nbformat_minor": 0,
  "metadata": {
    "colab": {
      "name": "20220518.ipynb",
      "provenance": []
    },
    "kernelspec": {
      "name": "python3",
      "display_name": "Python 3"
    },
    "language_info": {
      "name": "python"
    }
  },
  "cells": [
    {
      "cell_type": "markdown",
      "source": [
        "# Manejo de archivos"
      ],
      "metadata": {
        "id": "qJ_ZPmZR7on9"
      }
    },
    {
      "cell_type": "code",
      "execution_count": null,
      "metadata": {
        "id": "5e66z0W-3tWO"
      },
      "outputs": [],
      "source": [
        "from io import open\n",
        "archivo1= open(\"MiArchivo.txt\", \"w\")\n",
        "texto = \"Luisa María\\nIngeniera de Sistemas\"\n",
        "archivo1.write(texto)\n",
        "archivo1.close()"
      ]
    },
    {
      "cell_type": "markdown",
      "source": [
        "**Ejercicio**\n",
        "\n",
        "Cree un archivo de texto con los siguieentes datos\n",
        "* Nombre\n",
        "* Apellido\n",
        "* Peso\n",
        "* Estratura\n",
        "* Fecha Nacimiento\n",
        "* Empresa donde trabaja\n",
        "* Ciudad \n",
        "* Dpto\n",
        "* Pais"
      ],
      "metadata": {
        "id": "voNb9ODK8di0"
      }
    },
    {
      "cell_type": "code",
      "source": [
        "from io import open\n",
        "archivo1= open(\"MisDatos.txt\", \"w\")\n",
        "texto = \"Nombre: Christian\\nApellido: Bermúdez Rivas\\nPeso:75 kg \\nEstratura:1.70 \\nFecha Nacimiento:19 enero 1980 \\nEmpresa donde trabaja:Dirección General Marítima \\nCiudad:Tumaco \\nDpto:Nariño \\nPais: Colombia\"\n",
        "archivo1.write(texto)\n",
        "archivo1.close()"
      ],
      "metadata": {
        "id": "qU1GxLS18Y7E"
      },
      "execution_count": null,
      "outputs": []
    },
    {
      "cell_type": "markdown",
      "source": [
        "Para abrir un archivo:"
      ],
      "metadata": {
        "id": "RFB3OqfJ_QHe"
      }
    },
    {
      "cell_type": "code",
      "source": [
        "#programa que abre el archivo en modo lectura; lea su contenido y lo ponga en pantalla\n",
        "from io import open\n",
        "NombreArchivo =\"MisDatos.txt\"\n",
        "archivo1 =open(NombreArchivo,\"r\")\n",
        "texto =archivo1.read()\n",
        "archivo1.close()\n",
        "print(\"ARCHIVO:\",NombreArchivo)\n",
        "print(\"Contenido:\")\n",
        "print(texto)"
      ],
      "metadata": {
        "colab": {
          "base_uri": "https://localhost:8080/"
        },
        "id": "lboLeX6u_De1",
        "outputId": "350d59c4-ca75-4ecc-ed8b-6265c23135e0"
      },
      "execution_count": null,
      "outputs": [
        {
          "output_type": "stream",
          "name": "stdout",
          "text": [
            "ARCHIVO: MisDatos.txt\n",
            "Contenido:\n",
            "Nombre: Christian\n",
            "Apellido: Bermúdez Rivas\n",
            "Peso:75 kg \n",
            "Estratura:1.70 \n",
            "Fecha Nacimiento:19 enero 1980 \n",
            "Empresa donde trabaja:Dirección General Marítima \n",
            "Ciudad:Tumaco \n",
            "Dpto:Nariño \n",
            "Pais: Colombia\n"
          ]
        }
      ]
    },
    {
      "cell_type": "markdown",
      "source": [
        "Programa para abrir archivo en modo lectura de lineas\n",
        ".realines()"
      ],
      "metadata": {
        "id": "eyH6B8o-Aipd"
      }
    },
    {
      "cell_type": "code",
      "source": [
        "#programa que abre el archivo en modo lectura; lea su contenido y lo ponga en pantalla como una lista\n",
        "from io import open\n",
        "NombreArchivo =\"MisDatos.txt\"\n",
        "archivo1 =open(NombreArchivo,\"r\")\n",
        "texto =archivo1.readlines()\n",
        "archivo1.close()\n",
        "print(\"ARCHIVO:\",NombreArchivo)\n",
        "print(\"Contenido:\")\n",
        "print(texto)"
      ],
      "metadata": {
        "colab": {
          "base_uri": "https://localhost:8080/"
        },
        "id": "WsG18WIYAiIW",
        "outputId": "09450ca4-7166-4225-dbe2-12fe06892d3c"
      },
      "execution_count": null,
      "outputs": [
        {
          "output_type": "stream",
          "name": "stdout",
          "text": [
            "ARCHIVO: MisDatos.txt\n",
            "Contenido:\n",
            "['Nombre: Christian\\n', 'Apellido: Bermúdez Rivas\\n', 'Peso:75 kg \\n', 'Estratura:1.70 \\n', 'Fecha Nacimiento:19 enero 1980 \\n', 'Empresa donde trabaja:Dirección General Marítima \\n', 'Ciudad:Tumaco \\n', 'Dpto:Nariño \\n', 'Pais: Colombia']\n"
          ]
        }
      ]
    },
    {
      "cell_type": "markdown",
      "source": [
        ""
      ],
      "metadata": {
        "id": "vIKuQT2mCNEo"
      }
    },
    {
      "cell_type": "code",
      "source": [
        "#programa que abre el archivo en modo lectura; lea su contenido y lo ponga en pantalla desde la posición de una lista\n",
        "from io import open\n",
        "NombreArchivo =\"MisDatos.txt\"\n",
        "archivo1 =open(NombreArchivo,\"r\")\n",
        "texto =archivo1.readlines()\n",
        "archivo1.close()\n",
        "print(\"ARCHIVO:\",NombreArchivo)\n",
        "print(\"Contenido:\")\n",
        "print(texto)\n",
        "print(texto[3])"
      ],
      "metadata": {
        "colab": {
          "base_uri": "https://localhost:8080/"
        },
        "id": "v1Uv5zy5CNQe",
        "outputId": "d6664dac-2fd1-43f3-ef3c-7a3e385780a2"
      },
      "execution_count": null,
      "outputs": [
        {
          "output_type": "stream",
          "name": "stdout",
          "text": [
            "ARCHIVO: MisDatos.txt\n",
            "Contenido:\n",
            "['Nombre: Christian\\n', 'Apellido: Bermúdez Rivas\\n', 'Peso:75 kg \\n', 'Estratura:1.70 \\n', 'Fecha Nacimiento:19 enero 1980 \\n', 'Empresa donde trabaja:Dirección General Marítima \\n', 'Ciudad:Tumaco \\n', 'Dpto:Nariño \\n', 'Pais: Colombia']\n",
            "Estratura:1.70 \n",
            "\n"
          ]
        }
      ]
    },
    {
      "cell_type": "markdown",
      "source": [
        "Manejo de archivos Binarios\n",
        "\n",
        "Escribir un archivo binario"
      ],
      "metadata": {
        "id": "wMilpFRuFIPI"
      }
    },
    {
      "cell_type": "code",
      "source": [
        "import pickle #Librería para archivos binarios\n",
        "datos=[\"Luisa María\",\"Jimenez\",\"36\",\"1.56\"]\n",
        "archivo =open(\"Miarchivo.dat\",\"wb\")\n",
        "pickle.dump(datos,archivo) #Función dump permite guardar datos archivos binarios\n",
        "archivo.close()"
      ],
      "metadata": {
        "id": "7czeYyQYD5Yi"
      },
      "execution_count": null,
      "outputs": []
    },
    {
      "cell_type": "markdown",
      "source": [
        "Leer un archivo binario"
      ],
      "metadata": {
        "id": "6Kqo7dysFNvJ"
      }
    },
    {
      "cell_type": "code",
      "source": [
        "#ARCIVOS BINARIOS//VER EL CONTENIDO\n",
        "import pickle\n",
        "archivo2 =open(\"Miarchivo.dat\",\"rb\")\n",
        "datos = pickle.load (archivo2)\n",
        "archivo2.close()\n",
        "\n",
        "for c in datos:\n",
        "  print(c)"
      ],
      "metadata": {
        "colab": {
          "base_uri": "https://localhost:8080/"
        },
        "id": "lPAj6qGeE5hH",
        "outputId": "edf3186c-1ba3-4ce0-af9a-3a6911705ade"
      },
      "execution_count": null,
      "outputs": [
        {
          "output_type": "stream",
          "name": "stdout",
          "text": [
            "Luisa María\n",
            "Jimenez\n",
            "36\n",
            "1.56\n"
          ]
        }
      ]
    },
    {
      "cell_type": "markdown",
      "source": [
        "Archivos JSON (JavaScriptObjectNotation)"
      ],
      "metadata": {
        "id": "xh4he-F9GFHp"
      }
    },
    {
      "cell_type": "code",
      "source": [
        "#ARCHIVO JSON JSON (JavaScriptObjectNotation)\n",
        "# Es un estandar utilizado para el intercambio de informacion entre aplicaciones. \n",
        "#Un objeto JSON es un diccionario donde la clave una cadena de caracteres delimitado por \"\"\n",
        "# el valor puede se un numero, una cadena de caracteres, un elemento null,o una lista de elementos o un Json\n",
        "{\n",
        "\"Nombre\": \"Douglas\", \n",
        "\"Apellido\": \"Crockford\",\n",
        "\"pasatiempos\": [\"trotar\",\"bucear\",\"cantar\"],\n",
        "\"edad\": 64,\n",
        "\"empleado\": false,\n",
        "\"jefe\": null,\n",
        "\"hijos\": [\n",
        "    {\"Nombre\": \"Alice\",\"edad\":16},\n",
        "    {\"Nombre\": \"Bob\",\"edad\":8}\n",
        "  ]\n",
        "}"
      ],
      "metadata": {
        "colab": {
          "base_uri": "https://localhost:8080/",
          "height": 239
        },
        "id": "JOdhoIxXGEZB",
        "outputId": "28b85f16-8a27-4ed5-ea86-1766d50c9504"
      },
      "execution_count": null,
      "outputs": [
        {
          "output_type": "error",
          "ename": "NameError",
          "evalue": "ignored",
          "traceback": [
            "\u001b[0;31m---------------------------------------------------------------------------\u001b[0m",
            "\u001b[0;31mNameError\u001b[0m                                 Traceback (most recent call last)",
            "\u001b[0;32m<ipython-input-11-2eb8eb720654>\u001b[0m in \u001b[0;36m<module>\u001b[0;34m()\u001b[0m\n\u001b[1;32m      9\u001b[0m \u001b[0;34m\"edad\"\u001b[0m\u001b[0;34m:\u001b[0m \u001b[0;36m64\u001b[0m\u001b[0;34m,\u001b[0m\u001b[0;34m\u001b[0m\u001b[0;34m\u001b[0m\u001b[0m\n\u001b[1;32m     10\u001b[0m \u001b[0;34m\"empleado\"\u001b[0m\u001b[0;34m:\u001b[0m \u001b[0;32mFalse\u001b[0m\u001b[0;34m,\u001b[0m\u001b[0;34m\u001b[0m\u001b[0;34m\u001b[0m\u001b[0m\n\u001b[0;32m---> 11\u001b[0;31m \u001b[0;34m\"jefe\"\u001b[0m\u001b[0;34m:\u001b[0m \u001b[0mnull\u001b[0m\u001b[0;34m,\u001b[0m\u001b[0;34m\u001b[0m\u001b[0;34m\u001b[0m\u001b[0m\n\u001b[0m\u001b[1;32m     12\u001b[0m \"hijos\": [\n\u001b[1;32m     13\u001b[0m     \u001b[0;34m{\u001b[0m\u001b[0;34m\"Nombre\"\u001b[0m\u001b[0;34m:\u001b[0m \u001b[0;34m\"Alice\"\u001b[0m\u001b[0;34m,\u001b[0m\u001b[0;34m\"edad\"\u001b[0m\u001b[0;34m:\u001b[0m\u001b[0;36m16\u001b[0m\u001b[0;34m}\u001b[0m\u001b[0;34m,\u001b[0m\u001b[0;34m\u001b[0m\u001b[0;34m\u001b[0m\u001b[0m\n",
            "\u001b[0;31mNameError\u001b[0m: name 'null' is not defined"
          ]
        }
      ]
    },
    {
      "cell_type": "code",
      "source": [
        "import json\n",
        "strjson=input()\n",
        "s=input()\n",
        "sl=s.split()\n",
        "d=json.loads(strjson)\n",
        "#Entrada: {\"t\": 66, \"u\": 72, \"d\": 90, \"r\": 84, \"j\": 36, \"g\": 50, \"s\": 94, \"q\": 62, \"f\": 35}\n",
        "#Segunda Entrada: d p h u i e t q\n",
        "print(d)"
      ],
      "metadata": {
        "colab": {
          "base_uri": "https://localhost:8080/"
        },
        "id": "c0vtRfzVH_-B",
        "outputId": "44f2efc3-67d0-45a6-80e5-7453bbf480fd"
      },
      "execution_count": null,
      "outputs": [
        {
          "output_type": "stream",
          "name": "stdout",
          "text": [
            "{\"t\": 66, \"u\": 72, \"d\": 90, \"r\": 84, \"j\": 36, \"g\": 50, \"s\": 94, \"q\": 62, \"f\": 35}\n",
            "d p h u i e t q\n",
            "{'t': 66, 'u': 72, 'd': 90, 'r': 84, 'j': 36, 'g': 50, 's': 94, 'q': 62, 'f': 35}\n"
          ]
        }
      ]
    }
  ]
}