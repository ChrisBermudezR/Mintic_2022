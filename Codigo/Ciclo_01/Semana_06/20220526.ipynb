{
  "nbformat": 4,
  "nbformat_minor": 0,
  "metadata": {
    "colab": {
      "name": "20220526.ipynb",
      "provenance": []
    },
    "kernelspec": {
      "name": "python3",
      "display_name": "Python 3"
    },
    "language_info": {
      "name": "python"
    }
  },
  "cells": [
    {
      "cell_type": "markdown",
      "source": [
        "# Librerías\n",
        "\n",
        "## NumPy\n",
        "\n",
        "# Arrays\n"
      ],
      "metadata": {
        "id": "63wZ5vqaE3pt"
      }
    },
    {
      "cell_type": "code",
      "execution_count": 1,
      "metadata": {
        "colab": {
          "base_uri": "https://localhost:8080/"
        },
        "id": "YmVERiyUE1L-",
        "outputId": "9ea6f3ef-82a2-45a9-de12-2f7c33a15207"
      },
      "outputs": [
        {
          "output_type": "stream",
          "name": "stdout",
          "text": [
            "[7 8 3]\n"
          ]
        }
      ],
      "source": [
        "# Array de una dimensión\n",
        "import numpy as np\n",
        "a1 = np.array([7, 8, 3])\n",
        "print(a1)"
      ]
    },
    {
      "cell_type": "code",
      "source": [
        "0import numpy as np #  para utilizar la libreria numpy se hace uso de esta sentencia.\n",
        "\n",
        "a =np.array(list(range(1,5)))# Crea un arreglo lineal\n",
        "print(type(a)) #Imprime el tipo del arreglo \"<class'numpy.ndarray'>\"\n",
        "print(a)\n",
        "print(a.shape) #Imprime\"(4,)\"es de tamaño 4,de 1 dimensión\n",
        "print(a[0], a[1],a[2])\n",
        "a[0] =-4\n",
        "print(a)"
      ],
      "metadata": {
        "colab": {
          "base_uri": "https://localhost:8080/"
        },
        "id": "a2hv4Yx0FaOl",
        "outputId": "0de4b78e-d2cb-4971-b9de-783bc5604897"
      },
      "execution_count": 6,
      "outputs": [
        {
          "output_type": "stream",
          "name": "stdout",
          "text": [
            "<class 'numpy.ndarray'>\n",
            "[1 2 3 4]\n",
            "(4,)\n",
            "1 2 3\n",
            "[-4  2  3  4]\n"
          ]
        }
      ]
    },
    {
      "cell_type": "code",
      "source": [
        "# Numpy = Arreglo de valores del mismo tipo indexadas por enteros no negativos.\n",
        "# El numero de dimensiones (rank) y La forma de dimension (shape) es una tupla de enteros que da el tamaño.\n",
        "# Se pueden crear arreglos de numpy desde listas de Python y acceder a los elementos con el operador subscript [].\n",
        "\n",
        "import numpy as np #  para utilizar la libreria numpy se hace uso de esta sentencia.\n",
        "\n",
        "a =np.array(list(range(1,5)))# Crea un arreglo lineal\n",
        "#print(type(a)) #Imprime el tipo del arreglo \"<class'numpy.ndarray'>\"\n",
        "print(a)\n",
        "#print(a.shape) #Imprime\"(4,)\"es de tamaño 4,de 1 dimensión\n",
        "#print(a[0], a[1],a[2])\n",
        "a[0] =98\n",
        "print(a)\n"
      ],
      "metadata": {
        "colab": {
          "base_uri": "https://localhost:8080/"
        },
        "id": "0sw_w5IeJChl",
        "outputId": "64542e3b-9332-455f-f431-4c3d2af0b1a0"
      },
      "execution_count": 7,
      "outputs": [
        {
          "output_type": "stream",
          "name": "stdout",
          "text": [
            "[1 2 3 4]\n",
            "[98  2  3  4]\n"
          ]
        }
      ]
    },
    {
      "cell_type": "code",
      "source": [
        "import numpy as np\n",
        "b =np.ones((2,3))#Crea una matriz de 2x3 de unos(1's)\n",
        "print(b.shape)\n",
        "print(b)\n",
        "#print(\"---------\")"
      ],
      "metadata": {
        "colab": {
          "base_uri": "https://localhost:8080/"
        },
        "id": "0y1SfoSXLDbk",
        "outputId": "0d106e64-6d89-407f-9023-a88e7504f8e7"
      },
      "execution_count": 8,
      "outputs": [
        {
          "output_type": "stream",
          "name": "stdout",
          "text": [
            "(2, 3)\n",
            "[[1. 1. 1.]\n",
            " [1. 1. 1.]]\n"
          ]
        }
      ]
    },
    {
      "cell_type": "code",
      "source": [
        "b =np.array([[1,2,3,5,6],[4,5,6,7,8]])# Crea un arreglo bidimensional\n",
        "print(b.shape)\n",
        "print(b)\n",
        "print(\"---------\")\n",
        "b[0,0] =1590\n",
        "print(b)\n",
        "print(\"---------\")\n",
        "print(b[0,0], b[0,1],b[1,0])"
      ],
      "metadata": {
        "colab": {
          "base_uri": "https://localhost:8080/"
        },
        "id": "wVzjjIsALNkM",
        "outputId": "d9800253-af83-47ce-c986-e39a4941c27a"
      },
      "execution_count": 9,
      "outputs": [
        {
          "output_type": "stream",
          "name": "stdout",
          "text": [
            "(2, 5)\n",
            "[[1 2 3 5 6]\n",
            " [4 5 6 7 8]]\n",
            "---------\n",
            "[[1590    2    3    5    6]\n",
            " [   4    5    6    7    8]]\n",
            "---------\n",
            "1590 2 4\n"
          ]
        }
      ]
    },
    {
      "cell_type": "code",
      "source": [
        "import numpy as np\n",
        "# Crea un arreglo bidimensionalcon forma(3,4) tres filas cuatro columnas\n",
        "a =np.array([[1,2,3,4],[5,6,7,8],[9,10,11,12]])\n",
        "#print(a.shape)\n",
        "print(a)\n",
        "b =a[0:2,1:3]\n",
        "# El primer argumento indica las filas y el segundo lascolumnas\n",
        "print(b)\n",
        "#print(\"------------------------\")\n",
        "\n",
        "# Si se modifica algo de b,se cambia algo de a\n",
        "b[0, 0]=-11 #b[0,0]es el mismo a[0,1]\n",
        "print(b)\n",
        "print(a)\n",
        "print(a[0,1]) #Imprime\"-11\""
      ],
      "metadata": {
        "colab": {
          "base_uri": "https://localhost:8080/"
        },
        "id": "lxpiiUiRLQLF",
        "outputId": "3893b215-6a68-4f26-def7-085a8b87a868"
      },
      "execution_count": 11,
      "outputs": [
        {
          "output_type": "stream",
          "name": "stdout",
          "text": [
            "[[ 1  2  3  4]\n",
            " [ 5  6  7  8]\n",
            " [ 9 10 11 12]]\n",
            "[[2 3]\n",
            " [6 7]]\n",
            "[[-11   3]\n",
            " [  6   7]]\n",
            "[[  1 -11   3   4]\n",
            " [  5   6   7   8]\n",
            " [  9  10  11  12]]\n",
            "-11\n"
          ]
        }
      ]
    },
    {
      "cell_type": "code",
      "source": [
        "import numpy as np\n",
        "\n",
        "#dtype = tipos de datos en arrays , enteros de 64 bits; https://python-para-impacientes.blogspot.com/2019/10/tipos-de-datos-en-arrays-numpy-dtype.html\n",
        "x =np.array([5,-4])\n",
        "print(x.dtype)\n",
        "x =np.array([1.0,2.0])\n",
        "print(x.dtype)\n",
        "x =np.array([5,-4],dtype=np.int32)\n",
        "print(x.dtype)"
      ],
      "metadata": {
        "id": "5no-Znw8LR72"
      },
      "execution_count": null,
      "outputs": []
    },
    {
      "cell_type": "code",
      "source": [
        "import numpy as np\n",
        "x =np.array([[1,2,5],[3,4,6]],dtype=np.float128)\n",
        "y =np.array([[5,6,-1],[7,8,-6]],dtype=np.float128)\n",
        "print(\"Suma:\")\n",
        "print(x +y)\n",
        "print(\"-----\")\n",
        "print(np.add(x, y)) # otra forma de hacer la suma\n",
        "print(\"raiz cuadrada:\")\n",
        "print(np.sqrt(x))"
      ],
      "metadata": {
        "id": "Q7ngkI30LTjc"
      },
      "execution_count": null,
      "outputs": []
    },
    {
      "cell_type": "code",
      "source": [
        "import numpy as np\n",
        "#linspace genera un array NumPy formado por n números equiespaciados entre dos dados\n",
        "#Su sintaxis es: numpy.linspace(valor-inicial, valor-final, número de valores)\n",
        "\n",
        "np.linspace(2, 3,num=10,endpoint=True,retstep=False)"
      ],
      "metadata": {
        "id": "I4jdIdoDLVKW"
      },
      "execution_count": null,
      "outputs": []
    },
    {
      "cell_type": "code",
      "source": [
        "# LIBRERIA MATPLOTLIB\n",
        "# Matplotlib es una libreria para la generación de gráficos a partir de datos contenidos en listas \n",
        "# o arrays en el lenguaje de programación Python y su extensión matemática NumPy\n",
        "\n",
        "# Pasos para crear graficos\n",
        "# https://aprendeconalf.es/docencia/python/manual/matplotlib/\n",
        "\n",
        "import matplotlib.pyplot as plt    # Importar el módulo pyplot con el alias plt\n",
        "# Matplotlibplot.\n",
        "plt.plot([1, 2,3,4],[1,4,2,3]) #.plot Dibuja un polígono con los vértices dados \n",
        "#por las coordenadas de la lista x en el eje X y las coordenadas de la lista y en el eje Y"
      ],
      "metadata": {
        "id": "jZzQ8axGLW5-"
      },
      "execution_count": null,
      "outputs": []
    },
    {
      "cell_type": "code",
      "source": [
        "# Importar el módulo pyplot con el alias plt\n",
        "import matplotlib.pyplot as plt\n",
        "# Crear la figura y los ejes\n",
        "fig, ax = plt.subplots()\n",
        "# Dibujar puntos\n",
        "ax.scatter(x = [1, 2, 3], y = [3, 2, 1]) #.scatter es un diagrama de dispersión \n",
        "# Guardar el gráfico en formato png\n",
        "plt.savefig('diagrama-dispersion.png')\n",
        "# Mostrar el gráfico\n",
        "plt.show()"
      ],
      "metadata": {
        "id": "hZ4eZJg3LbtN"
      },
      "execution_count": null,
      "outputs": []
    },
    {
      "cell_type": "code",
      "source": [
        "#  .scatter: Dibuja un diagrama de puntos con las coordenadas de la lista x \n",
        "#en el eje X y las coordenadas de la lista y en el eje Y.\n",
        "\n",
        "import matplotlib.pyplot as plt\n",
        "fig, ax = plt.subplots()\n",
        "ax.scatter([1, 2, 3, 4], [1, 2, 0, 0.5])\n",
        "plt.show()"
      ],
      "metadata": {
        "id": "WXLwK_dGLd1M"
      },
      "execution_count": null,
      "outputs": []
    },
    {
      "cell_type": "code",
      "source": [
        "#Diagrama de areas\n",
        "# fill_between(x, y): Dibuja el area bajo el polígono con los vértices dados \n",
        "#por las coordenadas de la lista x en el eje X y las coordenadas de la lista y en el eje Y\n",
        "\n",
        "import matplotlib.pyplot as plt\n",
        "fig, ax = plt.subplots()\n",
        "ax.fill_between([1, 2, 3, 4], [1, 2, 0, 0.5])\n",
        "plt.show()"
      ],
      "metadata": {
        "id": "SPzLkaQ1LmJ0"
      },
      "execution_count": null,
      "outputs": []
    },
    {
      "cell_type": "code",
      "source": [
        "# Diagrama de barras verticales\n",
        "#bar(x, y): Dibuja un diagrama de barras verticales donde x es una lista\n",
        "# con la posición de las barras en el eje X, e y es una lista con la altura de las barras en el eje Y.\n",
        "\n",
        "import matplotlib.pyplot as plt\n",
        "fig, ax = plt.subplots()\n",
        "ax.bar([1, 2, 3], [3, 2, 1])\n",
        "plt.show()"
      ],
      "metadata": {
        "id": "Sl4sklTZLqJc"
      },
      "execution_count": null,
      "outputs": []
    },
    {
      "cell_type": "code",
      "source": [
        "# Diagrama de barras horizontales\n",
        "import matplotlib.pyplot as plt\n",
        "fig, ax = plt.subplots()\n",
        "ax.barh([1, 2, 3], [3, 2, 1])\n",
        "plt.show()"
      ],
      "metadata": {
        "id": "254Nxh9_LrPd"
      },
      "execution_count": null,
      "outputs": []
    },
    {
      "cell_type": "code",
      "source": [
        "#COMBINAR LIBRERIA\n",
        "\n",
        "import numpy as np\n",
        "import matplotlib.pyplot as plt\n",
        "x =np.linspace(0,2,50)\n",
        "#print(x)\n",
        "# Aun con el OO-style,usamos\".pyplot.figure\"para crear la figura.\n",
        "fig, ax=plt.subplots()#Crea la figura y los ejes.\n",
        "ax.plot(x, x,label=\"linear\")#Dibuja algunos datos en los ejes.\n",
        "ax.plot(x, x**2,label=\"quadratic\")#Dibuja mas datos en los ejes.\n",
        "ax.plot(x, x**3,label=\"cubic\")#...y algunos mas.\n",
        "ax.set_xlabel(\"x label\")#Agrega un x-label a los ejes.\n",
        "ax.set_ylabel(\"y label\")#Agrega un y-label a los ejes.\n",
        "ax.set_title(\"Simple Plot\")#Agrega tItulo a los ejes.\n",
        "ax.legend() #Agrega una leyenda."
      ],
      "metadata": {
        "id": "dbBqkB71Lsu9"
      },
      "execution_count": null,
      "outputs": []
    },
    {
      "cell_type": "code",
      "source": [
        "names =[\"group_a\",\"group_b\",\"group_c\"]\n",
        "values =[3.4,50.3,23]\n",
        "plt.figure(figsize=(9, 3))\n",
        "plt.subplot(131)\n",
        "plt.bar(names, values)\n",
        "plt.subplot(132)\n",
        "plt.scatter(names, values)\n",
        "plt.subplot(133)\n",
        "plt.plot(names, values)\n",
        "plt.suptitle(\"Categorical Plotting\")\n",
        "plt.show()"
      ],
      "metadata": {
        "id": "nBKtHEvbLtyk"
      },
      "execution_count": null,
      "outputs": []
    },
    {
      "cell_type": "code",
      "source": [
        "# LIBRERIA PANDAS\n",
        "dictc ={\"country\":[\"Brazil\",\"Russia\",\"India\",\"China\", \"SouthAfrica\",\"Colombia\"],\"capital\": [\"Brasilia\",\"Moscow\",\"NewDehli\", \"Beijing\", \"Pretoria\",\"Bogot\u0013a\"],\n",
        "\"area\": [8.516,17.10,3.286,9.597,1.221,1.142], \"population\": [200.4,143.5,1252,1357,52.98,49.65]}\n",
        "\n",
        "import pandas as pd\n",
        "brics =pd.DataFrame(dictc)\n",
        "print(brics)"
      ],
      "metadata": {
        "id": "rILfi2AoLvD9"
      },
      "execution_count": null,
      "outputs": []
    },
    {
      "cell_type": "code",
      "source": [
        "from google.colab import files\n",
        "uploaded =files.upload()#Uploadfiles/SalesJan2009.csv"
      ],
      "metadata": {
        "id": "fquULWXqLwWE"
      },
      "execution_count": null,
      "outputs": []
    },
    {
      "cell_type": "code",
      "source": [
        "# Importpandasaspd\n",
        "import pandas as pd\n",
        "from collections import Counter\n",
        "ventasdf =pd.read_csv(\"SalesJan2009.csv\")\n",
        "ventasdf.head(3)"
      ],
      "metadata": {
        "id": "dr4EOUehLx8k"
      },
      "execution_count": null,
      "outputs": []
    },
    {
      "cell_type": "code",
      "source": [
        "import pandas as pd\n",
        "from collections import Counter\n",
        "ventasdf =pd.read_csv(\"SalesJan2009.csv\")\n",
        "#print(ventas)\n",
        "cp =Counter(ventasdf[\"Country\"])\n",
        "print(cp.most_common(3))\n",
        "cv =Counter(ventasdf[\"Payment_Type\"])\n",
        "print(cv.most_common(3))"
      ],
      "metadata": {
        "id": "u-R8Ha7vLzT1"
      },
      "execution_count": null,
      "outputs": []
    },
    {
      "cell_type": "code",
      "source": [
        "import pandas as pd\n",
        "import datetime\n",
        "import matplotlib.pyplot as plt\n",
        "#Reporte porfecha\n",
        "ventasdf[\"Transaction_date\"]=pd.to_datetime(ventasdf[\"Transaction_date\"])\n",
        "A = (ventasdf[\"Transaction_date\"]\n",
        ".dt.floor(\"d\")\n",
        ".value_counts()\n",
        ".rename_axis(\"date\")\n",
        ".reset_index(name=\"num ventas\"))\n",
        "G=A.plot(x=\"date\",y=\"num ventas\",color=\"green\",title=\"Ventasporfecha\")\n",
        "plt.show()"
      ],
      "metadata": {
        "id": "sIp3KWkUL0yu"
      },
      "execution_count": null,
      "outputs": []
    },
    {
      "cell_type": "code",
      "source": [
        "import numpy as np\n",
        "x = np.linspace(0, 10, 100)\n",
        "\n",
        "fig = plt.figure()\n",
        "plt.plot(x, np.sin(x), '-')\n",
        "plt.plot(x, np.cos(x), '--');"
      ],
      "metadata": {
        "id": "J-O6xxK9L1z0"
      },
      "execution_count": null,
      "outputs": []
    }
  ]
}