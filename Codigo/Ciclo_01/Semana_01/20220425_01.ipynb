{
  "nbformat": 4,
  "nbformat_minor": 0,
  "metadata": {
    "colab": {
      "name": "Untitled0.ipynb",
      "provenance": [],
      "collapsed_sections": []
    },
    "kernelspec": {
      "name": "python3",
      "display_name": "Python 3"
    },
    "language_info": {
      "name": "python"
    }
  },
  "cells": [
    {
      "cell_type": "code",
      "execution_count": null,
      "metadata": {
        "colab": {
          "base_uri": "https://localhost:8080/"
        },
        "id": "_6BSBAcOrYE_",
        "outputId": "aa507987-a28e-4b67-acab-f3e1762ce1e4"
      },
      "outputs": [
        {
          "output_type": "stream",
          "name": "stdout",
          "text": [
            "Hola, Mundo!\n"
          ]
        }
      ],
      "source": [
        "print(\"Hola, Mundo!\")"
      ]
    },
    {
      "cell_type": "code",
      "source": [
        "print(\"Christian Bermúdez Rivas\")"
      ],
      "metadata": {
        "colab": {
          "base_uri": "https://localhost:8080/"
        },
        "id": "mvZZDefmsrS5",
        "outputId": "e05c598a-02d0-426a-cdc7-82c4fc42b91c"
      },
      "execution_count": null,
      "outputs": [
        {
          "output_type": "stream",
          "name": "stdout",
          "text": [
            "Christian Bermúdez Rivas\n"
          ]
        }
      ]
    },
    {
      "cell_type": "code",
      "source": [
        "# Así se hacen comentarios\n",
        "print(type(10))\n",
        "print(type(3.14))\n",
        "print(type(-8))\n",
        "print(type(1e3))"
      ],
      "metadata": {
        "colab": {
          "base_uri": "https://localhost:8080/"
        },
        "id": "5ZwnKhpOtZhI",
        "outputId": "206cff01-34e4-46df-8da6-ce10098b756f"
      },
      "execution_count": null,
      "outputs": [
        {
          "output_type": "stream",
          "name": "stdout",
          "text": [
            "<class 'int'>\n",
            "<class 'float'>\n",
            "<class 'int'>\n",
            "<class 'float'>\n"
          ]
        }
      ]
    },
    {
      "cell_type": "code",
      "source": [
        "print(type(\"i_am_an_integer\"))\n",
        "print(type(3.54))\n",
        "print(type(7 // 8))\n",
        "print(type( 1))\n",
        "print(type(\"hola\" + \"adiós\"))\n",
        "print(type( 4e4))\n",
        "print(type(12 / 3))"
      ],
      "metadata": {
        "colab": {
          "base_uri": "https://localhost:8080/"
        },
        "id": "b6R7sMxb13uw",
        "outputId": "b9afaa0d-7da1-443e-962e-c832c3476663"
      },
      "execution_count": null,
      "outputs": [
        {
          "output_type": "stream",
          "name": "stdout",
          "text": [
            "<class 'str'>\n",
            "<class 'float'>\n",
            "<class 'int'>\n",
            "<class 'int'>\n",
            "<class 'str'>\n",
            "<class 'float'>\n",
            "<class 'float'>\n"
          ]
        }
      ]
    },
    {
      "cell_type": "code",
      "source": [
        "print(\"a)\",type(\"i_am_an_integer\"))\n",
        "print(\"b)\",type(3.54))\n",
        "print(\"c)\",type(7 // 8))\n",
        "print(\"d)\",type( 1))\n",
        "print(\"e)\",type(\"hola\" + \"adiós\"))\n",
        "print(\"f)\",type( 4e4))\n",
        "print(\"g)\",type(12 / 3))"
      ],
      "metadata": {
        "colab": {
          "base_uri": "https://localhost:8080/"
        },
        "id": "womM0omO2QyA",
        "outputId": "78760f10-fed7-4157-a51f-a2f7d11b3ede"
      },
      "execution_count": null,
      "outputs": [
        {
          "output_type": "stream",
          "name": "stdout",
          "text": [
            "a) <class 'str'>\n",
            "b) <class 'float'>\n",
            "c) <class 'int'>\n",
            "d) <class 'int'>\n",
            "e) <class 'str'>\n",
            "f) <class 'float'>\n",
            "g) <class 'float'>\n"
          ]
        }
      ]
    },
    {
      "cell_type": "code",
      "source": [
        "3*2+1\n"
      ],
      "metadata": {
        "colab": {
          "base_uri": "https://localhost:8080/"
        },
        "id": "ovSHrX773u_5",
        "outputId": "4e7fe491-db41-465e-cc70-c8853d980667"
      },
      "execution_count": null,
      "outputs": [
        {
          "output_type": "execute_result",
          "data": {
            "text/plain": [
              "7"
            ]
          },
          "metadata": {},
          "execution_count": 11
        }
      ]
    },
    {
      "cell_type": "code",
      "source": [
        "print(\"a)\",type(\"i_am_an_integer\"))\n"
      ],
      "metadata": {
        "colab": {
          "base_uri": "https://localhost:8080/"
        },
        "id": "RUk-SzYk2FzP",
        "outputId": "04529379-432d-47b6-b573-682190ebe10d"
      },
      "execution_count": null,
      "outputs": [
        {
          "output_type": "stream",
          "name": "stdout",
          "text": [
            "a) <class 'str'>\n"
          ]
        }
      ]
    }
  ]
}